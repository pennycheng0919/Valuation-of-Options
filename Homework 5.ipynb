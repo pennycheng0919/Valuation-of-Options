{
 "cells": [
  {
   "cell_type": "markdown",
   "metadata": {},
   "source": [
    "# Homework 5\n",
    "B06201053 數學四 鄭心慈"
   ]
  },
  {
   "cell_type": "markdown",
   "metadata": {},
   "source": [
    "Price an arithmetic average call with the following payoff using the binomial tree model.\n",
    "\n",
    "$$\n",
    "\\text{Payoff}_{\\tau}=\\max(S_{ave,\\tau}−K,0),\n",
    "$$\n",
    "\n",
    "where $S_{ave,\\tau}$ is the arithmetic average of stock prices from the issue date until the current time point $\\tau$."
   ]
  },
  {
   "cell_type": "markdown",
   "metadata": {},
   "source": [
    "## Basic requirement (80 points)"
   ]
  },
  {
   "cell_type": "markdown",
   "metadata": {},
   "source": [
    "(i) Implement the binomial tree model to price both European and American arithmetic average calls.\n",
    "\n",
    "(ii) Implement the Monte Carlo simulation to price European arithmetic average calls."
   ]
  },
  {
   "cell_type": "markdown",
   "metadata": {},
   "source": [
    ">Inputs: $S_t$, $K$, $r$, $q$, $\\sigma$, $t$, $T-t$, $M$, $n$, $S_{ave,t}$, number of simulations, number of repetitions.\n",
    "\n",
    ">Outputs: Option values for both methods and 95% confidence interval for Monte Carlo simulation."
   ]
  },
  {
   "cell_type": "code",
   "execution_count": 2,
   "metadata": {},
   "outputs": [],
   "source": [
    "import numpy as np"
   ]
  },
  {
   "cell_type": "code",
   "execution_count": 3,
   "metadata": {},
   "outputs": [],
   "source": [
    "### input"
   ]
  },
  {
   "cell_type": "code",
   "execution_count": 4,
   "metadata": {},
   "outputs": [
    {
     "name": "stdout",
     "output_type": "stream",
     "text": [
      "Please input S_t: 50\n"
     ]
    }
   ],
   "source": [
    "S_t0=float(input('Please input S_t: '))"
   ]
  },
  {
   "cell_type": "code",
   "execution_count": 5,
   "metadata": {},
   "outputs": [
    {
     "name": "stdout",
     "output_type": "stream",
     "text": [
      "Please input K: 50\n"
     ]
    }
   ],
   "source": [
    "K=float(input('Please input K: '))"
   ]
  },
  {
   "cell_type": "code",
   "execution_count": 6,
   "metadata": {},
   "outputs": [
    {
     "name": "stdout",
     "output_type": "stream",
     "text": [
      "Please input r: 0.1\n"
     ]
    }
   ],
   "source": [
    "r=float(input('Please input r: '))"
   ]
  },
  {
   "cell_type": "code",
   "execution_count": 7,
   "metadata": {},
   "outputs": [
    {
     "name": "stdout",
     "output_type": "stream",
     "text": [
      "Please input q: 0.05\n"
     ]
    }
   ],
   "source": [
    "q=float(input('Please input q: '))"
   ]
  },
  {
   "cell_type": "code",
   "execution_count": 8,
   "metadata": {},
   "outputs": [
    {
     "name": "stdout",
     "output_type": "stream",
     "text": [
      "Please input sigma: 0.8\n"
     ]
    }
   ],
   "source": [
    "sigma=float(input('Please input sigma: '))"
   ]
  },
  {
   "cell_type": "code",
   "execution_count": 9,
   "metadata": {},
   "outputs": [
    {
     "name": "stdout",
     "output_type": "stream",
     "text": [
      "Please input t: 0\n"
     ]
    }
   ],
   "source": [
    "t0=float(input('Please input t: '))"
   ]
  },
  {
   "cell_type": "code",
   "execution_count": 10,
   "metadata": {},
   "outputs": [
    {
     "name": "stdout",
     "output_type": "stream",
     "text": [
      "Please input T-t: 0.25\n"
     ]
    }
   ],
   "source": [
    "T=float(input('Please input T-t: '))+t0"
   ]
  },
  {
   "cell_type": "code",
   "execution_count": 11,
   "metadata": {},
   "outputs": [
    {
     "name": "stdout",
     "output_type": "stream",
     "text": [
      "Please input M: 100\n"
     ]
    }
   ],
   "source": [
    "M=int(input('Please input M: '))"
   ]
  },
  {
   "cell_type": "code",
   "execution_count": 12,
   "metadata": {},
   "outputs": [
    {
     "name": "stdout",
     "output_type": "stream",
     "text": [
      "Please input n: 100\n"
     ]
    }
   ],
   "source": [
    "n=int(input('Please input n: '))"
   ]
  },
  {
   "cell_type": "code",
   "execution_count": 13,
   "metadata": {},
   "outputs": [
    {
     "name": "stdout",
     "output_type": "stream",
     "text": [
      "Please input S_ave,t: 50\n"
     ]
    }
   ],
   "source": [
    "S_ave_t0=float(input('Please input S_ave,t: '))"
   ]
  },
  {
   "cell_type": "code",
   "execution_count": 66,
   "metadata": {},
   "outputs": [
    {
     "name": "stdout",
     "output_type": "stream",
     "text": [
      "Please input number of simulations: 10000\n"
     ]
    }
   ],
   "source": [
    "n_si=int(input('Please input number of simulations: '))"
   ]
  },
  {
   "cell_type": "code",
   "execution_count": 67,
   "metadata": {},
   "outputs": [
    {
     "name": "stdout",
     "output_type": "stream",
     "text": [
      "Please input number of repetitions: 20\n"
     ]
    }
   ],
   "source": [
    "n_re=int(input('Please input number of repetitions: '))"
   ]
  },
  {
   "cell_type": "code",
   "execution_count": 13,
   "metadata": {},
   "outputs": [],
   "source": [
    "### binomial tree model"
   ]
  },
  {
   "cell_type": "code",
   "execution_count": 14,
   "metadata": {},
   "outputs": [],
   "source": [
    "n_before=int(n*t0/(T-t0))\n",
    "dt=(T-t0)/n\n",
    "u=np.exp(sigma*np.sqrt(dt))\n",
    "d=1/u\n",
    "p=(np.exp((r-q)*dt)-d)/(u-d)"
   ]
  },
  {
   "cell_type": "code",
   "execution_count": 15,
   "metadata": {},
   "outputs": [],
   "source": [
    "import math"
   ]
  },
  {
   "cell_type": "code",
   "execution_count": 17,
   "metadata": {},
   "outputs": [
    {
     "name": "stdout",
     "output_type": "stream",
     "text": [
      "The option value is [[[  4.73538535   4.73538535   4.73538535 ...   4.73538535   4.73538535\n",
      "     4.73538535]\n",
      "  [  0.           0.           0.         ...   0.           0.\n",
      "     0.        ]\n",
      "  [  0.           0.           0.         ...   0.           0.\n",
      "     0.        ]\n",
      "  ...\n",
      "  [  0.           0.           0.         ...   0.           0.\n",
      "     0.        ]\n",
      "  [  0.           0.           0.         ...   0.           0.\n",
      "     0.        ]\n",
      "  [  0.           0.           0.         ...   0.           0.\n",
      "     0.        ]]\n",
      "\n",
      " [[  5.82192671   5.82192671   5.82192671 ...   5.82192671   5.82192671\n",
      "     5.82192671]\n",
      "  [  3.68723064   3.68723064   3.68723064 ...   3.68723064   3.68723064\n",
      "     3.68723064]\n",
      "  [  0.           0.           0.         ...   0.           0.\n",
      "     0.        ]\n",
      "  ...\n",
      "  [  0.           0.           0.         ...   0.           0.\n",
      "     0.        ]\n",
      "  [  0.           0.           0.         ...   0.           0.\n",
      "     0.        ]\n",
      "  [  0.           0.           0.         ...   0.           0.\n",
      "     0.        ]]\n",
      "\n",
      " [[  7.07834123   7.07834123   7.07834123 ...   7.07834123   7.07834123\n",
      "     7.07834123]\n",
      "  [  4.61007058   4.60989313   4.60971568 ...   4.59270501   4.59252808\n",
      "     4.59235114]\n",
      "  [  2.81396071   2.81396071   2.81396071 ...   2.81396071   2.81396071\n",
      "     2.81396071]\n",
      "  ...\n",
      "  [  0.           0.           0.         ...   0.           0.\n",
      "     0.        ]\n",
      "  [  0.           0.           0.         ...   0.           0.\n",
      "     0.        ]\n",
      "  [  0.           0.           0.         ...   0.           0.\n",
      "     0.        ]]\n",
      "\n",
      " ...\n",
      "\n",
      " [[623.79485493 623.79485493 623.79485493 ... 623.79485493 623.79485493\n",
      "   623.79485493]\n",
      "  [618.04210614 617.58199516 617.12188419 ... 572.95123045 572.49111947\n",
      "   572.03100849]\n",
      "  [610.88948656 610.02342676 609.15736696 ... 526.01562584 525.14956604\n",
      "   524.28350623]\n",
      "  ...\n",
      "  [  0.           0.           0.         ...   0.           0.\n",
      "     0.        ]\n",
      "  [  0.           0.           0.         ...   0.           0.\n",
      "     0.        ]\n",
      "  [  0.           0.           0.         ...   0.           0.\n",
      "     0.        ]]\n",
      "\n",
      " [[625.98072044 625.98072044 625.98072044 ... 625.98072044 625.98072044\n",
      "   625.98072044]\n",
      "  [621.98829    621.50888575 621.02948151 ... 575.006674   574.52726975\n",
      "   574.04786551]\n",
      "  [616.38498956 615.48258324 614.58017693 ... 527.94917051 527.04676419\n",
      "   526.14435788]\n",
      "  ...\n",
      "  [  0.           0.           0.         ...   0.           0.\n",
      "     0.        ]\n",
      "  [  0.           0.           0.         ...   0.           0.\n",
      "     0.        ]\n",
      "  [  0.           0.           0.         ...   0.           0.\n",
      "     0.        ]]\n",
      "\n",
      " [[627.19380276 627.19380276 627.19380276 ... 627.19380276 627.19380276\n",
      "   627.19380276]\n",
      "  [625.11573085 624.61624085 624.11675084 ... 576.16571023 575.66622022\n",
      "   575.16673022]\n",
      "  [621.20083916 620.26059335 619.32034754 ... 529.05674953 528.11650372\n",
      "   527.17625791]\n",
      "  ...\n",
      "  [  0.           0.           0.         ...   0.           0.\n",
      "     0.        ]\n",
      "  [  0.           0.           0.         ...   0.           0.\n",
      "     0.        ]\n",
      "  [  0.           0.           0.         ...   0.           0.\n",
      "     0.        ]]]\n"
     ]
    }
   ],
   "source": [
    "### European option\n",
    "def BT_average_E_option_price(S_t0, K, r, q, sigma, dt, t0, T, n_before, M, n, S_ave_t0):\n",
    "    S_t=np.zeros((n+1, n+1))\n",
    "    for i in range(n-1, n+1, 1):\n",
    "        for j in range(0, i+1, 1):\n",
    "            S_t[i,j]=S_t0*u**(i-j)*d**j\n",
    "    if n%2: # n是奇數\n",
    "        S_t[n-1,math.floor(n/2)]=S_t0\n",
    "    else: # n是偶數\n",
    "        S_t[n,math.floor(n/2)]=S_t0\n",
    "    for i in range(n-2, -1, -1):\n",
    "        for j in range(0, i+1, 1):\n",
    "            S_t[i,j]=S_t[i+2,j+1]\n",
    "    # average price\n",
    "    S_ave=np.zeros((n+1, n+1, M+1))\n",
    "    S_ave[0,0,0]=S_ave_t0\n",
    "    for i in range(1, n+1, 1):\n",
    "        for j in range(0, i+1, 1):\n",
    "            S_ave[i,j,0]=(S_ave[0,0,0]*(n_before+1)+S_ave[0,0,0]*u*(1-u**(i-j))/(1-u)+S_ave[0,0,0]*u**(i-j)*d*(1-d**j)/(1-d))/(n_before+i+1)\n",
    "            S_ave[i,j,M]=(S_ave[0,0,0]*(n_before+1)+S_ave[0,0,0]*d*(1-d**j)/(1-d)+S_ave[0,0,0]*d**j*u*(1-u**(i-j))/(1-u))/(n_before+i+1)\n",
    "            for k in range(1, M, 1):\n",
    "                S_ave[i,j,k]=((M-k)*S_ave[i,j,0]+k*S_ave[i,j,M])/M\n",
    "    call=np.zeros((n+1, n+1, M+1))\n",
    "    # i=n\n",
    "    for j in range(0, n+1, 1):\n",
    "        for k in range(0, M+1, 1):\n",
    "            call[n,j,k]=max(S_ave[n,j,k]-K,0)\n",
    "    # backward induction\n",
    "    for i in range(n-1, -1, -1):\n",
    "        for j in range(0, i+1, 1):\n",
    "            for k in range(0, M+1, 1):\n",
    "                A_u=((i+n_before+1)*S_ave[i,j,k]+S_t[i+1,j])/(i+n_before+2) #S_t0*u**(i+1-j)*d**j\n",
    "                A_d=((i+n_before+1)*S_ave[i,j,k]+S_t[i+1,j+1])/(i+n_before+2) #S_t0*u**(i+1-j-1)*d**(j+1)\n",
    "                # sequential search\n",
    "                if A_u>S_ave[i+1,j,0]:\n",
    "                    C_u=call[i+1,j,0]\n",
    "                elif A_u<S_ave[i+1,j,M]:\n",
    "                    C_u=call[i+1,j,M]\n",
    "                else: \n",
    "                    for k_u in range(0, M+1, 1):\n",
    "                        if A_u<S_ave[i+1,j,k_u]:\n",
    "                            continue\n",
    "                        elif A_u==S_ave[i+1,j,k_u]:\n",
    "                            C_u=call[i+1,j,k_u]\n",
    "                            break\n",
    "                        elif A_u>S_ave[i+1,j,k_u]:\n",
    "                            if S_ave[i+1,j,k_u-1]-S_ave[i+1,j,k_u]==0:\n",
    "                                w_u=0\n",
    "                            else:\n",
    "                                w_u=(S_ave[i+1,j,k_u-1]-A_u)/(S_ave[i+1,j,k_u-1]-S_ave[i+1,j,k_u])\n",
    "                            C_u=w_u*call[i+1,j,k_u]+(1-w_u)*call[i+1,j,k_u-1]\n",
    "                            break\n",
    "                if A_d>S_ave[i+1,j+1,0]:\n",
    "                    C_d=call[i+1,j+1,0]\n",
    "                elif A_d<S_ave[i+1,j+1,M]:\n",
    "                    C_d=call[i+1,j+1,M]\n",
    "                else:\n",
    "                    for k_d in range(0, M+1, 1):\n",
    "                        if A_d<S_ave[i+1,j+1,k_d]:\n",
    "                            continue\n",
    "                        elif A_d==S_ave[i+1,j+1,k_d]:\n",
    "                            C_d=call[i+1,j+1,k_d]\n",
    "                            break\n",
    "                        if A_d>S_ave[i+1,j+1,k_d]:\n",
    "                            if S_ave[i+1,j+1,k_d-1]-S_ave[i+1,j+1,k_d]==0:\n",
    "                                w_d=0\n",
    "                            else:\n",
    "                                w_d=(S_ave[i+1,j+1,k_d-1]-A_d)/(S_ave[i+1,j+1,k_d-1]-S_ave[i+1,j+1,k_d])\n",
    "                            C_d=w_d*call[i+1,j+1,k_d]+(1-w_d)*call[i+1,j+1,k_d-1]\n",
    "                            break\n",
    "                call[i,j,k]=(p*C_u+(1-p)*C_d)*np.exp(-r*dt)\n",
    "    return call\n",
    "\n",
    "print('The option value is', BT_average_E_option_price(S_t0, K, r, q, sigma, dt, t0, T, n_before, M, n, S_ave_t0))"
   ]
  },
  {
   "cell_type": "code",
   "execution_count": 18,
   "metadata": {},
   "outputs": [
    {
     "name": "stdout",
     "output_type": "stream",
     "text": [
      "The option value is 5.4145899579661885\n"
     ]
    }
   ],
   "source": [
    "### American option\n",
    "def BT_average_A_option_price(S_t0, K, r, q, sigma, dt, t0, T, n_before, M, n, S_ave_t0):\n",
    "    S_t=np.zeros((n+1, n+1))\n",
    "    for i in range(n-1, n+1, 1):\n",
    "        for j in range(0, i+1, 1):\n",
    "            S_t[i,j]=S_t0*u**(i-j)*d**j\n",
    "    if n%2: # n是奇數\n",
    "        S_t[n-1,math.floor(n/2)]=S_t0\n",
    "    else: # n是偶數\n",
    "        S_t[n,math.floor(n/2)]=S_t0\n",
    "    for i in range(n-2, -1, -1):\n",
    "        for j in range(0, i+1, 1):\n",
    "            S_t[i,j]=S_t[i+2,j+1]\n",
    "    # average price\n",
    "    S_ave=np.zeros((n+1, n+1, M+1))\n",
    "    S_ave[0,0,0]=S_ave_t0\n",
    "    for i in range(1, n+1, 1):\n",
    "        for j in range(0, i+1, 1):\n",
    "            S_ave[i,j,0]=(S_ave[0,0,0]*(n_before+1)+S_ave[0,0,0]*u*(1-u**(i-j))/(1-u)+S_ave[0,0,0]*u**(i-j)*d*(1-d**j)/(1-d))/(n_before+i+1)\n",
    "            S_ave[i,j,M]=(S_ave[0,0,0]*(n_before+1)+S_ave[0,0,0]*d*(1-d**j)/(1-d)+S_ave[0,0,0]*d**j*u*(1-u**(i-j))/(1-u))/(n_before+i+1)\n",
    "            for k in range(1, M, 1):\n",
    "                S_ave[i,j,k]=((M-k)*S_ave[i,j,0]+k*S_ave[i,j,M])/M\n",
    "    call=np.zeros((n+1, n+1, M+1))\n",
    "    # i=n\n",
    "    for j in range(0, n+1, 1):\n",
    "        for k in range(0, M+1, 1):\n",
    "            call[n,j,k]=max(S_ave[n,j,k]-K,0)\n",
    "    # backward induction\n",
    "    for i in range(n-1, -1, -1):\n",
    "        for j in range(0, i+1, 1):\n",
    "            for k in range(0, M+1, 1):\n",
    "                A_u=((i+n_before+1)*S_ave[i,j,k]+S_t[i+1,j])/(i+n_before+2) #S_t0*u**(i+1-j)*d**j\n",
    "                A_d=((i+n_before+1)*S_ave[i,j,k]+S_t[i+1,j+1])/(i+n_before+2) #S_t0*u**(i+1-j-1)*d**(j+1)\n",
    "                # sequential search\n",
    "                if A_u>S_ave[i+1,j,0]:\n",
    "                    C_u=call[i+1,j,0]\n",
    "                elif A_u<S_ave[i+1,j,M]:\n",
    "                    C_u=call[i+1,j,M]\n",
    "                else: \n",
    "                    for k_u in range(0, M+1, 1):\n",
    "                        if A_u<S_ave[i+1,j,k_u]:\n",
    "                            continue\n",
    "                        elif A_u==S_ave[i+1,j,k_u]:\n",
    "                            C_u=call[i+1,j,k_u]\n",
    "                            break\n",
    "                        elif A_u>S_ave[i+1,j,k_u]:\n",
    "                            if S_ave[i+1,j,k_u-1]-S_ave[i+1,j,k_u]==0:\n",
    "                                w_u=0\n",
    "                            else:\n",
    "                                w_u=(S_ave[i+1,j,k_u-1]-A_u)/(S_ave[i+1,j,k_u-1]-S_ave[i+1,j,k_u])\n",
    "                            C_u=w_u*call[i+1,j,k_u]+(1-w_u)*call[i+1,j,k_u-1]\n",
    "                            break\n",
    "                if A_d>S_ave[i+1,j+1,0]:\n",
    "                    C_d=call[i+1,j+1,0]\n",
    "                elif A_d<S_ave[i+1,j+1,M]:\n",
    "                    C_d=call[i+1,j+1,M]\n",
    "                else:\n",
    "                    for k_d in range(0, M+1, 1):\n",
    "                        if A_d<S_ave[i+1,j+1,k_d]:\n",
    "                            continue\n",
    "                        elif A_d==S_ave[i+1,j+1,k_d]:\n",
    "                            C_d=call[i+1,j+1,k_d]\n",
    "                            break\n",
    "                        if A_d>S_ave[i+1,j+1,k_d]:\n",
    "                            if S_ave[i+1,j+1,k_d-1]-S_ave[i+1,j+1,k_d]==0:\n",
    "                                w_d=0\n",
    "                            else:\n",
    "                                w_d=(S_ave[i+1,j+1,k_d-1]-A_d)/(S_ave[i+1,j+1,k_d-1]-S_ave[i+1,j+1,k_d])\n",
    "                            C_d=w_d*call[i+1,j+1,k_d]+(1-w_d)*call[i+1,j+1,k_d-1]\n",
    "                            break\n",
    "                call[i,j,k]=max(S_ave[i,j,k]-K,(p*C_u+(1-p)*C_d)*np.exp(-r*dt))\n",
    "    return call[0,0,0]\n",
    "\n",
    "print('The option value is', BT_average_A_option_price(S_t0, K, r, q, sigma, dt, t0, T, n_before, M, n, S_ave_t0))"
   ]
  },
  {
   "cell_type": "code",
   "execution_count": 64,
   "metadata": {},
   "outputs": [],
   "source": [
    "### Monte Carlo simulation"
   ]
  },
  {
   "cell_type": "code",
   "execution_count": 69,
   "metadata": {},
   "outputs": [
    {
     "name": "stdout",
     "output_type": "stream",
     "text": [
      "The option value is 4.635299446178052\n",
      "The 95% confidence interval is [ 4.461329925966603 , 4.8092689663895 ]\n"
     ]
    }
   ],
   "source": [
    "### European option\n",
    "def MC_average_E_option_price(S_t0, K, r, q, sigma, t0, T, S_ave_t0, n, n_si):\n",
    "    dt=(T-t0)/n\n",
    "    n_before=int(n*t0/(T-t0))\n",
    "    S_t=np.zeros((n_si,n+1))\n",
    "    for i in range(0, n_si, 1):\n",
    "        S_t[i,0]=S_t0\n",
    "        for j in range(0, n, 1):\n",
    "            S_t[i,j+1]=np.exp(np.random.normal(np.log(S_t[i,j])+(r-q-sigma**2/2)*dt, np.sqrt(sigma**2*dt)))\n",
    "    payoff=np.zeros(n_si)\n",
    "    for i in range(0, n_si, 1):\n",
    "        payoff[i]=max((sum(S_t[i,1:n+1])+S_ave_t0*(n_before+1))/(n+n_before+1)-K,0)\n",
    "    price=np.exp(-r*T)*np.mean(payoff)\n",
    "    return price\n",
    "\n",
    "sample=np.zeros(n_re)\n",
    "for i in range(0, n_re, 1):\n",
    "    sample[i]=MC_average_E_option_price(S_t0, K, r, q, sigma, t0, T, S_ave_t0, n, n_si)\n",
    "\n",
    "print('The option value is', np.mean(sample))\n",
    "print('The 95% confidence interval is','[', np.mean(sample)-2*np.std(sample), ',', np.mean(sample)+2*np.std(sample), ']')"
   ]
  },
  {
   "cell_type": "markdown",
   "metadata": {},
   "source": [
    "## Bonus 1 (5 points)"
   ]
  },
  {
   "cell_type": "markdown",
   "metadata": {},
   "source": [
    "Linearly vs. logarithmically equally-spaced placement method, i.e., compare the convergence rates for $M=50, 100, 150, \\ldots, 400$."
   ]
  },
  {
   "cell_type": "code",
   "execution_count": 19,
   "metadata": {},
   "outputs": [],
   "source": [
    "n_before=int(n*t0/(T-t0))\n",
    "dt=(T-t0)/n\n",
    "u=np.exp(sigma*np.sqrt(dt))\n",
    "d=1/u\n",
    "p=(np.exp((r-q)*dt)-d)/(u-d)"
   ]
  },
  {
   "cell_type": "code",
   "execution_count": 20,
   "metadata": {},
   "outputs": [],
   "source": [
    "import math"
   ]
  },
  {
   "cell_type": "code",
   "execution_count": 21,
   "metadata": {},
   "outputs": [
    {
     "name": "stdout",
     "output_type": "stream",
     "text": [
      "The option value is 4.694898854049817\n"
     ]
    }
   ],
   "source": [
    "### European option\n",
    "def BT_average_E_option_price_loglinear(S_t0, K, r, q, sigma, dt, t0, T, n_before, M, n, S_ave_t0):\n",
    "    S_t=np.zeros((n+1, n+1))\n",
    "    for i in range(n-1, n+1, 1):\n",
    "        for j in range(0, i+1, 1):\n",
    "            S_t[i,j]=S_t0*u**(i-j)*d**j\n",
    "    if n%2: # n是奇數\n",
    "        S_t[n-1,math.floor(n/2)]=S_t0\n",
    "    else: # n是偶數\n",
    "        S_t[n,math.floor(n/2)]=S_t0\n",
    "    for i in range(n-2, -1, -1):\n",
    "        for j in range(0, i+1, 1):\n",
    "            S_t[i,j]=S_t[i+2,j+1]\n",
    "    # average price\n",
    "    S_ave=np.zeros((n+1, n+1, M+1))\n",
    "    S_ave[0,0,0]=S_ave_t0\n",
    "    for i in range(1, n+1, 1):\n",
    "        for j in range(0, i+1, 1):\n",
    "            S_ave[i,j,0]=(S_ave[0,0,0]*(n_before+1)+S_ave[0,0,0]*u*(1-u**(i-j))/(1-u)+S_ave[0,0,0]*u**(i-j)*d*(1-d**j)/(1-d))/(n_before+i+1)\n",
    "            S_ave[i,j,M]=(S_ave[0,0,0]*(n_before+1)+S_ave[0,0,0]*d*(1-d**j)/(1-d)+S_ave[0,0,0]*d**j*u*(1-u**(i-j))/(1-u))/(n_before+i+1)\n",
    "            for k in range(1, M, 1):\n",
    "                S_ave[i,j,k]=np.exp(((M-k)*np.log(S_ave[i,j,0])+k*np.log(S_ave[i,j,M]))/M)\n",
    "    call=np.zeros((n+1, n+1, M+1))\n",
    "    # i=n\n",
    "    for j in range(0, n+1, 1):\n",
    "        for k in range(0, M+1, 1):\n",
    "            call[n,j,k]=max(S_ave[n,j,k]-K,0)\n",
    "    # backward induction\n",
    "    for i in range(n-1, -1, -1):\n",
    "        for j in range(0, i+1, 1):\n",
    "            for k in range(0, M+1, 1):\n",
    "                A_u=((i+n_before+1)*S_ave[i,j,k]+S_t[i+1,j])/(i+n_before+2) #S_t0*u**(i+1-j)*d**j\n",
    "                A_d=((i+n_before+1)*S_ave[i,j,k]+S_t[i+1,j+1])/(i+n_before+2) #S_t0*u**(i+1-j-1)*d**(j+1)\n",
    "                # sequential search\n",
    "                if A_u>S_ave[i+1,j,0]:\n",
    "                    C_u=call[i+1,j,0]\n",
    "                elif A_u<S_ave[i+1,j,M]:\n",
    "                    C_u=call[i+1,j,M]\n",
    "                else: \n",
    "                    for k_u in range(0, M+1, 1):\n",
    "                        if A_u<S_ave[i+1,j,k_u]:\n",
    "                            continue\n",
    "                        elif A_u==S_ave[i+1,j,k_u]:\n",
    "                            C_u=call[i+1,j,k_u]\n",
    "                            break\n",
    "                        elif A_u>S_ave[i+1,j,k_u]:\n",
    "                            if S_ave[i+1,j,k_u-1]-S_ave[i+1,j,k_u]==0:\n",
    "                                w_u=0\n",
    "                            else:\n",
    "                                w_u=(S_ave[i+1,j,k_u-1]-A_u)/(S_ave[i+1,j,k_u-1]-S_ave[i+1,j,k_u])\n",
    "                            C_u=w_u*call[i+1,j,k_u]+(1-w_u)*call[i+1,j,k_u-1]\n",
    "                            break\n",
    "                if A_d>S_ave[i+1,j+1,0]:\n",
    "                    C_d=call[i+1,j+1,0]\n",
    "                elif A_d<S_ave[i+1,j+1,M]:\n",
    "                    C_d=call[i+1,j+1,M]\n",
    "                else:\n",
    "                    for k_d in range(0, M+1, 1):\n",
    "                        if A_d<S_ave[i+1,j+1,k_d]:\n",
    "                            continue\n",
    "                        elif A_d==S_ave[i+1,j+1,k_d]:\n",
    "                            C_d=call[i+1,j+1,k_d]\n",
    "                            break\n",
    "                        if A_d>S_ave[i+1,j+1,k_d]:\n",
    "                            if S_ave[i+1,j+1,k_d-1]-S_ave[i+1,j+1,k_d]==0:\n",
    "                                w_d=0\n",
    "                            else:\n",
    "                                w_d=(S_ave[i+1,j+1,k_d-1]-A_d)/(S_ave[i+1,j+1,k_d-1]-S_ave[i+1,j+1,k_d])\n",
    "                            C_d=w_d*call[i+1,j+1,k_d]+(1-w_d)*call[i+1,j+1,k_d-1]\n",
    "                            break\n",
    "                call[i,j,k]=(p*C_u+(1-p)*C_d)*np.exp(-r*dt)\n",
    "    return call[0,0,0]\n",
    "\n",
    "print('The option value is', BT_average_E_option_price_loglinear(S_t0, K, r, q, sigma, dt, t0, T, n_before, M, n, S_ave_t0))"
   ]
  },
  {
   "cell_type": "code",
   "execution_count": 22,
   "metadata": {},
   "outputs": [
    {
     "name": "stdout",
     "output_type": "stream",
     "text": [
      "The option value is 5.390353494722307\n"
     ]
    }
   ],
   "source": [
    "### American option\n",
    "def BT_average_A_option_price_loglinear(S_t0, K, r, q, sigma, dt, t0, T, n_before, M, n, S_ave_t0):\n",
    "    S_t=np.zeros((n+1, n+1))\n",
    "    for i in range(n-1, n+1, 1):\n",
    "        for j in range(0, i+1, 1):\n",
    "            S_t[i,j]=S_t0*u**(i-j)*d**j\n",
    "    if n%2: # n是奇數\n",
    "        S_t[n-1,math.floor(n/2)]=S_t0\n",
    "    else: # n是偶數\n",
    "        S_t[n,math.floor(n/2)]=S_t0\n",
    "    for i in range(n-2, -1, -1):\n",
    "        for j in range(0, i+1, 1):\n",
    "            S_t[i,j]=S_t[i+2,j+1]\n",
    "    # average price\n",
    "    S_ave=np.zeros((n+1, n+1, M+1))\n",
    "    S_ave[0,0,0]=S_ave_t0\n",
    "    for i in range(1, n+1, 1):\n",
    "        for j in range(0, i+1, 1):\n",
    "            S_ave[i,j,0]=(S_ave[0,0,0]*(n_before+1)+S_ave[0,0,0]*u*(1-u**(i-j))/(1-u)+S_ave[0,0,0]*u**(i-j)*d*(1-d**j)/(1-d))/(n_before+i+1)\n",
    "            S_ave[i,j,M]=(S_ave[0,0,0]*(n_before+1)+S_ave[0,0,0]*d*(1-d**j)/(1-d)+S_ave[0,0,0]*d**j*u*(1-u**(i-j))/(1-u))/(n_before+i+1)\n",
    "            for k in range(1, M, 1):\n",
    "                S_ave[i,j,k]=np.exp(((M-k)*np.log(S_ave[i,j,0])+k*np.log(S_ave[i,j,M]))/M)\n",
    "    call=np.zeros((n+1, n+1, M+1))\n",
    "    # i=n\n",
    "    for j in range(0, n+1, 1):\n",
    "        for k in range(0, M+1, 1):\n",
    "            call[n,j,k]=max(S_ave[n,j,k]-K,0)\n",
    "    # backward induction\n",
    "    for i in range(n-1, -1, -1):\n",
    "        for j in range(0, i+1, 1):\n",
    "            for k in range(0, M+1, 1):\n",
    "                A_u=((i+n_before+1)*S_ave[i,j,k]+S_t[i+1,j])/(i+n_before+2) #S_t0*u**(i+1-j)*d**j\n",
    "                A_d=((i+n_before+1)*S_ave[i,j,k]+S_t[i+1,j+1])/(i+n_before+2) #S_t0*u**(i+1-j-1)*d**(j+1)\n",
    "                # sequential search\n",
    "                if A_u>S_ave[i+1,j,0]:\n",
    "                    C_u=call[i+1,j,0]\n",
    "                elif A_u<S_ave[i+1,j,M]:\n",
    "                    C_u=call[i+1,j,M]\n",
    "                else: \n",
    "                    for k_u in range(0, M+1, 1):\n",
    "                        if A_u<S_ave[i+1,j,k_u]:\n",
    "                            continue\n",
    "                        elif A_u==S_ave[i+1,j,k_u]:\n",
    "                            C_u=call[i+1,j,k_u]\n",
    "                            break\n",
    "                        elif A_u>S_ave[i+1,j,k_u]:\n",
    "                            if S_ave[i+1,j,k_u-1]-S_ave[i+1,j,k_u]==0:\n",
    "                                w_u=0\n",
    "                            else:\n",
    "                                w_u=(S_ave[i+1,j,k_u-1]-A_u)/(S_ave[i+1,j,k_u-1]-S_ave[i+1,j,k_u])\n",
    "                            C_u=w_u*call[i+1,j,k_u]+(1-w_u)*call[i+1,j,k_u-1]\n",
    "                            break\n",
    "                if A_d>S_ave[i+1,j+1,0]:\n",
    "                    C_d=call[i+1,j+1,0]\n",
    "                elif A_d<S_ave[i+1,j+1,M]:\n",
    "                    C_d=call[i+1,j+1,M]\n",
    "                else:\n",
    "                    for k_d in range(0, M+1, 1):\n",
    "                        if A_d<S_ave[i+1,j+1,k_d]:\n",
    "                            continue\n",
    "                        elif A_d==S_ave[i+1,j+1,k_d]:\n",
    "                            C_d=call[i+1,j+1,k_d]\n",
    "                            break\n",
    "                        if A_d>S_ave[i+1,j+1,k_d]:\n",
    "                            if S_ave[i+1,j+1,k_d-1]-S_ave[i+1,j+1,k_d]==0:\n",
    "                                w_d=0\n",
    "                            else:\n",
    "                                w_d=(S_ave[i+1,j+1,k_d-1]-A_d)/(S_ave[i+1,j+1,k_d-1]-S_ave[i+1,j+1,k_d])\n",
    "                            C_d=w_d*call[i+1,j+1,k_d]+(1-w_d)*call[i+1,j+1,k_d-1]\n",
    "                            break\n",
    "                call[i,j,k]=max(S_ave[i,j,k]-K,(p*C_u+(1-p)*C_d)*np.exp(-r*dt))\n",
    "    return call[0,0,0]\n",
    "\n",
    "print('The option value is', BT_average_A_option_price_loglinear(S_t0, K, r, q, sigma, dt, t0, T, n_before, M, n, S_ave_t0))"
   ]
  },
  {
   "cell_type": "code",
   "execution_count": 80,
   "metadata": {},
   "outputs": [],
   "source": [
    "import matplotlib.pyplot as plt"
   ]
  },
  {
   "cell_type": "code",
   "execution_count": 79,
   "metadata": {},
   "outputs": [
    {
     "ename": "NameError",
     "evalue": "name 'plt' is not defined",
     "output_type": "error",
     "traceback": [
      "\u001b[1;31m---------------------------------------------------------------------------\u001b[0m",
      "\u001b[1;31mNameError\u001b[0m                                 Traceback (most recent call last)",
      "\u001b[1;32m<ipython-input-79-973d728088d9>\u001b[0m in \u001b[0;36m<module>\u001b[1;34m\u001b[0m\n\u001b[0;32m      7\u001b[0m \u001b[1;33m\u001b[0m\u001b[0m\n\u001b[0;32m      8\u001b[0m \u001b[0mx_range\u001b[0m \u001b[1;33m=\u001b[0m \u001b[0mnp\u001b[0m\u001b[1;33m.\u001b[0m\u001b[0marange\u001b[0m\u001b[1;33m(\u001b[0m\u001b[1;36m50\u001b[0m\u001b[1;33m,\u001b[0m \u001b[1;36m400\u001b[0m\u001b[1;33m,\u001b[0m \u001b[1;36m50\u001b[0m\u001b[1;33m)\u001b[0m\u001b[1;33m\u001b[0m\u001b[1;33m\u001b[0m\u001b[0m\n\u001b[1;32m----> 9\u001b[1;33m \u001b[0mplt\u001b[0m\u001b[1;33m.\u001b[0m\u001b[0mfigure\u001b[0m\u001b[1;33m(\u001b[0m\u001b[0mfigsize\u001b[0m\u001b[1;33m=\u001b[0m\u001b[1;33m(\u001b[0m\u001b[1;36m16\u001b[0m\u001b[1;33m,\u001b[0m\u001b[1;36m8\u001b[0m\u001b[1;33m)\u001b[0m\u001b[1;33m)\u001b[0m\u001b[1;33m\u001b[0m\u001b[1;33m\u001b[0m\u001b[0m\n\u001b[0m\u001b[0;32m     10\u001b[0m \u001b[0mplt\u001b[0m\u001b[1;33m.\u001b[0m\u001b[0mplot\u001b[0m\u001b[1;33m(\u001b[0m\u001b[0mx_range\u001b[0m\u001b[1;33m,\u001b[0m \u001b[0mE_linear\u001b[0m\u001b[1;33m[\u001b[0m\u001b[0mi\u001b[0m\u001b[1;33m]\u001b[0m\u001b[1;33m)\u001b[0m\u001b[1;33m\u001b[0m\u001b[1;33m\u001b[0m\u001b[0m\n\u001b[0;32m     11\u001b[0m \u001b[0mplt\u001b[0m\u001b[1;33m.\u001b[0m\u001b[0mplot\u001b[0m\u001b[1;33m(\u001b[0m\u001b[0mx_range\u001b[0m\u001b[1;33m,\u001b[0m \u001b[0mE_loglinear\u001b[0m\u001b[1;33m[\u001b[0m\u001b[0mi\u001b[0m\u001b[1;33m]\u001b[0m\u001b[1;33m)\u001b[0m\u001b[1;33m\u001b[0m\u001b[1;33m\u001b[0m\u001b[0m\n",
      "\u001b[1;31mNameError\u001b[0m: name 'plt' is not defined"
     ]
    }
   ],
   "source": [
    "E_linear=np.zeros(8)\n",
    "E_loglinear=np.zeros(8)\n",
    "for M_1 in range(50, 401, 50):\n",
    "    i=int(M_1/50-1)\n",
    "    E_linear[i]=BT_average_E_option_price(S_t0, K, r, q, sigma, dt, t0, T, n_before, M_1, n, S_ave_t0)\n",
    "    E_loglinear[i]=BT_average_E_option_price_loglinear(S_t0, K, r, q, sigma, dt, t0, T, n_before, M_1, n, S_ave_t0)\n",
    "\n",
    "x_range = np.arange(50, 401, 50)\n",
    "plt.figure(figsize=(16,8))\n",
    "plt.plot(x_range, E_linear, label='Linearly equally-spaced')\n",
    "plt.plot(x_range, E_loglinear, label='Logarithmically equally-spaced')\n",
    "plt.xlabel('M', fontsize=18)\n",
    "plt.ylabel('European option price', fontsize=18)\n",
    "plt.legend()\n",
    "plt.show()"
   ]
  },
  {
   "cell_type": "code",
   "execution_count": 86,
   "metadata": {},
   "outputs": [
    {
     "data": {
      "image/png": "[encoded data removed]",
      "text/plain": [
       "<Figure size 1152x576 with 1 Axes>"
      ]
     },
     "metadata": {
      "needs_background": "light"
     },
     "output_type": "display_data"
    }
   ],
   "source": [
    "x_range = np.arange(50, 401, 50)\n",
    "plt.figure(figsize=(16,8))\n",
    "plt.plot(x_range, E_linear, label='Linearly equally-spaced')\n",
    "plt.plot(x_range, E_loglinear, label='Logarithmically equally-spaced')\n",
    "plt.xlabel('M', fontsize=18)\n",
    "plt.ylabel('European option price', fontsize=18)\n",
    "plt.legend()\n",
    "plt.show()"
   ]
  },
  {
   "cell_type": "code",
   "execution_count": 97,
   "metadata": {},
   "outputs": [
    {
     "data": {
      "image/png": "[encoded data removed]",
      "text/plain": [
       "<Figure size 1152x576 with 1 Axes>"
      ]
     },
     "metadata": {
      "needs_background": "light"
     },
     "output_type": "display_data"
    }
   ],
   "source": [
    "A_linear=np.zeros(8)\n",
    "A_loglinear=np.zeros(8)\n",
    "for M_1 in range(50, 401, 50):\n",
    "    i=int(M_1/50-1)\n",
    "    A_linear[i]=BT_average_A_option_price(S_t0, K, r, q, sigma, dt, t0, T, n_before, M_1, n, S_ave_t0)\n",
    "    A_loglinear[i]=BT_average_A_option_price_loglinear(S_t0, K, r, q, sigma, dt, t0, T, n_before, M_1, n, S_ave_t0)\n",
    "\n",
    "x_range = np.arange(50, 401, 50)\n",
    "plt.figure(figsize=(16,8))\n",
    "plt.plot(x_range, A_linear, label='Linearly equally-spaced')\n",
    "plt.plot(x_range, A_loglinear, label='Logarithmically equally-spaced')\n",
    "plt.xlabel('M', fontsize=18)\n",
    "plt.ylabel('American option price', fontsize=18)\n",
    "plt.legend()\n",
    "plt.show()"
   ]
  },
  {
   "cell_type": "markdown",
   "metadata": {},
   "source": [
    "## Bonus 2 (5 points)"
   ]
  },
  {
   "cell_type": "markdown",
   "metadata": {},
   "source": [
    "Compare the computational time of the following three methods to locate the positions of $A_u$ and $A_d$.\n",
    "\n",
    "$\n",
    "\\left\\{\n",
    "    \\begin{array}{ll}\n",
    "        \\mbox{Sequential search (the traditional way)}\n",
    "        \\\\\n",
    "        \\mbox{Binary search}\n",
    "        \\\\\n",
    "        \\mbox{Linear interpolation method}\n",
    "    \\end{array}\n",
    "\\right.\n",
    "$"
   ]
  },
  {
   "cell_type": "code",
   "execution_count": 23,
   "metadata": {},
   "outputs": [],
   "source": [
    "n_before=int(n*t0/(T-t0))\n",
    "dt=(T-t0)/n\n",
    "u=np.exp(sigma*np.sqrt(dt))\n",
    "d=1/u\n",
    "p=(np.exp((r-q)*dt)-d)/(u-d)"
   ]
  },
  {
   "cell_type": "code",
   "execution_count": 24,
   "metadata": {},
   "outputs": [],
   "source": [
    "import math"
   ]
  },
  {
   "cell_type": "code",
   "execution_count": 25,
   "metadata": {},
   "outputs": [],
   "source": [
    "### binary search"
   ]
  },
  {
   "cell_type": "code",
   "execution_count": 76,
   "metadata": {},
   "outputs": [
    {
     "name": "stdout",
     "output_type": "stream",
     "text": [
      "The option value is [[0.00407701 0.00407701 0.00407701 ... 0.00407701 0.00407701 0.00407701]\n",
      " [0.         0.         0.         ... 0.         0.         0.        ]\n",
      " [0.         0.         0.         ... 0.         0.         0.        ]\n",
      " ...\n",
      " [0.         0.         0.         ... 0.         0.         0.        ]\n",
      " [0.         0.         0.         ... 0.         0.         0.        ]\n",
      " [0.         0.         0.         ... 0.         0.         0.        ]]\n"
     ]
    }
   ],
   "source": [
    "### European option\n",
    "def BT_average_E_option_price_binary(S_t0, K, r, q, sigma, dt, t0, T, n_before, M, n, S_ave_t0):\n",
    "    S_t=np.zeros((n+1, n+1))\n",
    "    for i in range(n-1, n+1, 1):\n",
    "        for j in range(0, i+1, 1):\n",
    "            S_t[i,j]=S_t0*u**(i-j)*d**j\n",
    "    if n%2: # n是奇數\n",
    "        S_t[n-1,math.floor(n/2)]=S_t0\n",
    "    else: # n是偶數\n",
    "        S_t[n,math.floor(n/2)]=S_t0\n",
    "    for i in range(n-2, -1, -1):\n",
    "        for j in range(0, i+1, 1):\n",
    "            S_t[i,j]=S_t[i+2,j+1]\n",
    "    # average price\n",
    "    S_ave=np.zeros((n+1, n+1, M+1))\n",
    "    S_ave[0,0,0]=S_ave_t0\n",
    "    for i in range(1, n+1, 1):\n",
    "        for j in range(0, i+1, 1):\n",
    "            S_ave[i,j,0]=(S_ave[0,0,0]*(n_before+1)+S_ave[0,0,0]*u*(1-u**(i-j))/(1-u)+S_ave[0,0,0]*u**(i-j)*d*(1-d**j)/(1-d))/(n_before+i+1)\n",
    "            S_ave[i,j,M]=(S_ave[0,0,0]*(n_before+1)+S_ave[0,0,0]*d*(1-d**j)/(1-d)+S_ave[0,0,0]*d**j*u*(1-u**(i-j))/(1-u))/(n_before+i+1)\n",
    "            for k in range(1, M, 1):\n",
    "                S_ave[i,j,k]=((M-k)*S_ave[i,j,0]+k*S_ave[i,j,M])/M\n",
    "    call=np.zeros((n+1, n+1, M+1))\n",
    "    # i=n\n",
    "    for j in range(0, n+1, 1):\n",
    "        for k in range(0, M+1, 1):\n",
    "            call[n,j,k]=max(S_ave[n,j,k]-K,0)\n",
    "    # backward induction\n",
    "    for i in range(n-1, -1, -1):\n",
    "        for j in range(0, i+1, 1):\n",
    "            for k in range(0, M+1, 1):\n",
    "                A_u=((i+n_before+1)*S_ave[i,j,k]+S_t[i+1,j])/(i+n_before+2) #S_t0*u**(i+1-j)*d**j\n",
    "                #A_d=((i+n_before+1)*S_ave[i,j,k]+S_t[i+1,j+1])/(i+n_before+2) #S_t0*u**(i+1-j-1)*d**(j+1)\n",
    "                # binary search\n",
    "                C=int(M/2)\n",
    "                if A_u>S_ave[i+1,j,0]:\n",
    "                    C_u=call[i+1,j,0]\n",
    "                    continue\n",
    "                elif A_u<S_ave[i+1,j,M]:\n",
    "                    C_u=call[i+1,j,M]\n",
    "                    continue\n",
    "                else:\n",
    "                    A_next=0\n",
    "                    B_next=M\n",
    "                    C_next=C\n",
    "                    u_num_iterations=0\n",
    "                    while u_num_iterations<M:\n",
    "                        if A_u==S_ave[i+1,j,C_next]:\n",
    "                            C_u=call[i+1,j,C_next]\n",
    "                            break\n",
    "                        elif abs(A_next-B_next)<=1:\n",
    "                            if A_u==S_ave[i+1,j,A_next]:\n",
    "                                C_u=call[i+1,j,A_next]\n",
    "                                break\n",
    "                            elif A_u==S_ave[i+1,j,B_next]:\n",
    "                                C_u=call[i+1,j,B_next]\n",
    "                                break\n",
    "                            elif (A_u>=S_ave[i+1,j,A_next])&(A_u<=S_ave[i+1,j,A_next-1]):\n",
    "                                k_u=A_next\n",
    "                                if S_ave[i+1,j,k_u-1]-S_ave[i+1,j,k_u]==0:\n",
    "                                    w_u=0\n",
    "                                else:\n",
    "                                    w_u=(S_ave[i+1,j,k_u-1]-A_u)/(S_ave[i+1,j,k_u-1]-S_ave[i+1,j,k_u])\n",
    "                                C_u=w_u*call[i+1,j,k_u]+(1-w_u)*call[i+1,j,k_u-1]\n",
    "                                break\n",
    "                            else:\n",
    "                                k_u=B_next\n",
    "                                if S_ave[i+1,j,k_u-1]-S_ave[i+1,j,k_u]==0:\n",
    "                                    w_u=0\n",
    "                                else:\n",
    "                                    w_u=(S_ave[i+1,j,k_u-1]-A_u)/(S_ave[i+1,j,k_u-1]-S_ave[i+1,j,k_u])\n",
    "                                C_u=w_u*call[i+1,j,k_u]+(1-w_u)*call[i+1,j,k_u-1]\n",
    "                                break\n",
    "                        else:\n",
    "                            u_num_iterations+=1\n",
    "                            if A_u<S_ave[i+1,j,C_next]:\n",
    "                                A_next=C_next\n",
    "                                C_next=int((B_next+C_next)/2)\n",
    "                            elif A_u>S_ave[i+1,j,C_next]:\n",
    "                                B_next=C_next\n",
    "                                C_next=int((A_next+C_next)/2)\n",
    "            for k in range(0,M+1,1):\n",
    "                A_d=((i+n_before+1)*S_ave[i,j,k]+S_t[i+1,j+1])/(i+n_before+2)\n",
    "                if A_d>S_ave[i+1,j+1,0]:\n",
    "                    C_d=call[i+1,j+1,0]\n",
    "                    continue\n",
    "                elif A_d<S_ave[i+1,j+1,M]:\n",
    "                    C_d=call[i+1,j+1,M]\n",
    "                    continue\n",
    "                else:\n",
    "                    C=int(M/2)\n",
    "                    a_next=0\n",
    "                    b_next=M\n",
    "                    c_next=C\n",
    "                    d_num_iterations=0\n",
    "                    while d_num_iterations<M:\n",
    "                        if A_d==S_ave[i+1,j+1,c_next]:\n",
    "                            C_d=call[i+1,j+1,c_next]\n",
    "                            break\n",
    "                        elif abs(a_next-b_next)<=1:\n",
    "                            if A_d==S_ave[i+1,j+1,a_next]:\n",
    "                                C_d=call[i+1,j+1,a_next]\n",
    "                                break\n",
    "                            elif A_d==S_ave[i+1,j+1,b_next]:\n",
    "                                C_d=call[i+1,j+1,b_next]\n",
    "                                break\n",
    "                            elif (A_d>=S_ave[i+1,j+1,a_next])&(A_d<=S_ave[i+1,j+1,a_next-1]):\n",
    "                                k_d=a_next\n",
    "                                if S_ave[i+1,j+1,k_d-1]-S_ave[i+1,j+1,k_d]==0:\n",
    "                                    w_d=0\n",
    "                                else:\n",
    "                                    w_d=(S_ave[i+1,j+1,k_d-1]-A_d)/(S_ave[i+1,j+1,k_d-1]-S_ave[i+1,j+1,k_d])\n",
    "                                C_d=w_d*call[i+1,j+1,k_d]+(1-w_d)*call[i+1,j+1,k_d-1]\n",
    "                                break\n",
    "                            else:\n",
    "                                k_d=b_next\n",
    "                                if S_ave[i+1,j+1,k_d-1]-S_ave[i+1,j+1,k_d]==0:\n",
    "                                    w_d=0\n",
    "                                else:\n",
    "                                    w_d=(S_ave[i+1,j+1,k_d-1]-A_d)/(S_ave[i+1,j+1,k_d-1]-S_ave[i+1,j+1,k_d])\n",
    "                                C_d=w_d*call[i+1,j+1,k_d]+(1-w_d)*call[i+1,j+1,k_d-1]\n",
    "                                break\n",
    "                        else:\n",
    "                            d_num_iterations+=1\n",
    "                            if A_u<S_ave[i+1,j+1,c_next]:\n",
    "                                a_next=c_next\n",
    "                                c_next=int((b_next+c_next)/2)\n",
    "                            elif A_u>S_ave[i+1,j+1,c_next]:\n",
    "                                b_next=c_next\n",
    "                                c_next=int((a_next+c_next)/2)\n",
    "                call[i,j,k]=(p*C_u+(1-p)*C_d)*np.exp(-r*dt)\n",
    "    return call\n",
    "\n",
    "print('The option value is', BT_average_E_option_price_binary(S_t0, K, r, q, sigma, dt, t0, T, n_before, M, n, S_ave_t0)[1])"
   ]
  },
  {
   "cell_type": "code",
   "execution_count": 47,
   "metadata": {},
   "outputs": [],
   "source": [
    "a=BT_average_E_option_price_binary(S_t0, K, r, q, sigma, dt, t0, T, n_before, M, n, S_ave_t0)\n",
    "b=BT_average_E_option_price(S_t0, K, r, q, sigma, dt, t0, T, n_before, M, n, S_ave_t0)"
   ]
  },
  {
   "cell_type": "code",
   "execution_count": 57,
   "metadata": {},
   "outputs": [
    {
     "name": "stdout",
     "output_type": "stream",
     "text": [
      "94\n",
      "606.8257184252438\n",
      "606.8257184252437\n"
     ]
    }
   ],
   "source": [
    "for i in range(n, -1, -1):\n",
    "    if abs(a[i,0,0]-b[i,0,0])>0.00000000000001:\n",
    "        print(i)\n",
    "        print(a[i,0,0])\n",
    "        print(b[i,0,0])\n",
    "        break\n",
    "    else:\n",
    "        continue"
   ]
  },
  {
   "cell_type": "code",
   "execution_count": 62,
   "metadata": {},
   "outputs": [
    {
     "name": "stdout",
     "output_type": "stream",
     "text": [
      "99 1 4\n",
      "99 2 3\n",
      "99 3 43\n",
      "99 4 20\n",
      "99 5 11\n",
      "99 6 21\n",
      "99 7 9\n",
      "99 8 29\n",
      "99 9 32\n",
      "99 10 12\n",
      "99 11 14\n",
      "99 12 30\n",
      "99 13 16\n",
      "99 14 16\n",
      "99 16 92\n",
      "99 17 49\n",
      "99 18 27\n",
      "99 19 57\n",
      "99 20 93\n",
      "99 21 68\n",
      "99 22 71\n",
      "99 24 40\n",
      "99 26 47\n",
      "99 29 53\n",
      "99 33 68\n",
      "99 37 87\n",
      "99 39 93\n"
     ]
    }
   ],
   "source": [
    "i=99\n",
    "for j in range(0,i+1,1):\n",
    "    for k in range(0,M+1,1):\n",
    "        if a[i,j,k]!=b[i,j,k]:\n",
    "            print(i,j,k)\n",
    "            break"
   ]
  },
  {
   "cell_type": "code",
   "execution_count": 61,
   "metadata": {},
   "outputs": [
    {
     "data": {
      "text/plain": [
       "625.9807204408802"
      ]
     },
     "execution_count": 61,
     "metadata": {},
     "output_type": "execute_result"
    }
   ],
   "source": [
    "a[99,0,0]"
   ]
  },
  {
   "cell_type": "code",
   "execution_count": 60,
   "metadata": {},
   "outputs": [
    {
     "data": {
      "text/plain": [
       "625.9807204408802"
      ]
     },
     "execution_count": 60,
     "metadata": {},
     "output_type": "execute_result"
    }
   ],
   "source": [
    "b[99,0,0]"
   ]
  },
  {
   "cell_type": "code",
   "execution_count": 53,
   "metadata": {},
   "outputs": [
    {
     "data": {
      "text/plain": [
       "array([[68.27009296, 68.27009296, 68.27009296, ..., 68.27009296,\n",
       "        68.27009296, 68.27009296],\n",
       "       [60.7242276 , 60.70985284, 60.69547807, ..., 59.31550048,\n",
       "        59.30112571, 59.28675094],\n",
       "       [53.6648068 , 53.63845835, 53.6121099 , ..., 51.08265866,\n",
       "        51.05631021, 51.02996176],\n",
       "       ...,\n",
       "       [ 0.        ,  0.        ,  0.        , ...,  0.        ,\n",
       "         0.        ,  0.        ],\n",
       "       [ 0.        ,  0.        ,  0.        , ...,  0.        ,\n",
       "         0.        ,  0.        ],\n",
       "       [ 0.        ,  0.        ,  0.        , ...,  0.        ,\n",
       "         0.        ,  0.        ]])"
      ]
     },
     "execution_count": 53,
     "metadata": {},
     "output_type": "execute_result"
    }
   ],
   "source": [
    "a[24]"
   ]
  },
  {
   "cell_type": "code",
   "execution_count": 52,
   "metadata": {},
   "outputs": [
    {
     "data": {
      "text/plain": [
       "array([[68.27009296, 68.27009296, 68.27009296, ..., 68.27009296,\n",
       "        68.27009296, 68.27009296],\n",
       "       [60.7242276 , 60.70985284, 60.69547807, ..., 59.31550048,\n",
       "        59.30112571, 59.28675094],\n",
       "       [53.6648068 , 53.63845835, 53.6121099 , ..., 51.08265867,\n",
       "        51.05631022, 51.02996177],\n",
       "       ...,\n",
       "       [ 0.        ,  0.        ,  0.        , ...,  0.        ,\n",
       "         0.        ,  0.        ],\n",
       "       [ 0.        ,  0.        ,  0.        , ...,  0.        ,\n",
       "         0.        ,  0.        ],\n",
       "       [ 0.        ,  0.        ,  0.        , ...,  0.        ,\n",
       "         0.        ,  0.        ]])"
      ]
     },
     "execution_count": 52,
     "metadata": {},
     "output_type": "execute_result"
    }
   ],
   "source": [
    "b[24]"
   ]
  },
  {
   "cell_type": "code",
   "execution_count": 31,
   "metadata": {},
   "outputs": [
    {
     "data": {
      "text/plain": [
       "array([[600.8641464 , 600.8641464 , 600.8641464 , ..., 600.8641464 ,\n",
       "        600.8641464 , 600.8641464 ],\n",
       "       [588.31604239, 587.94156245, 587.56708252, ..., 551.61700879,\n",
       "        551.24252886, 550.86804892],\n",
       "       [575.22633097, 574.52159105, 573.81685113, ..., 506.1618188 ,\n",
       "        505.45707888, 504.75233896],\n",
       "       ...,\n",
       "       [  0.        ,   0.        ,   0.        , ...,   0.        ,\n",
       "          0.        ,   0.        ],\n",
       "       [  0.        ,   0.        ,   0.        , ...,   0.        ,\n",
       "          0.        ,   0.        ],\n",
       "       [  0.        ,   0.        ,   0.        , ...,   0.        ,\n",
       "          0.        ,   0.        ]])"
      ]
     },
     "execution_count": 31,
     "metadata": {},
     "output_type": "execute_result"
    }
   ],
   "source": [
    "BT_average_E_option_price_binary(S_t0, K, r, q, sigma, dt, t0, T, n_before, M, n, S_ave_t0)[93]"
   ]
  },
  {
   "cell_type": "code",
   "execution_count": 32,
   "metadata": {},
   "outputs": [
    {
     "data": {
      "text/plain": [
       "array([[600.8641464 , 600.8641464 , 600.8641464 , ..., 600.8641464 ,\n",
       "        600.8641464 , 600.8641464 ],\n",
       "       [588.31604239, 587.94156245, 587.56708252, ..., 551.61700879,\n",
       "        551.24252886, 550.86804892],\n",
       "       [575.22633097, 574.52159105, 573.81685113, ..., 506.1618188 ,\n",
       "        505.45707888, 504.75233896],\n",
       "       ...,\n",
       "       [  0.        ,   0.        ,   0.        , ...,   0.        ,\n",
       "          0.        ,   0.        ],\n",
       "       [  0.        ,   0.        ,   0.        , ...,   0.        ,\n",
       "          0.        ,   0.        ],\n",
       "       [  0.        ,   0.        ,   0.        , ...,   0.        ,\n",
       "          0.        ,   0.        ]])"
      ]
     },
     "execution_count": 32,
     "metadata": {},
     "output_type": "execute_result"
    }
   ],
   "source": [
    "BT_average_E_option_price(S_t0, K, r, q, sigma, dt, t0, T, n_before, M, n, S_ave_t0)[93]"
   ]
  },
  {
   "cell_type": "code",
   "execution_count": null,
   "metadata": {},
   "outputs": [],
   "source": [
    "### American option\n",
    "def BT_average_A_option_price_binary(S_t0, K, r, q, sigma, dt, t0, T, n_before, M, n, S_ave_t0):\n",
    "    S_t=np.zeros((n+1, n+1))\n",
    "    for i in range(n-1, n+1, 1):\n",
    "        for j in range(0, i+1, 1):\n",
    "            S_t[i,j]=S_t0*u**(i-j)*d**j\n",
    "    if n%2: # n是奇數\n",
    "        S_t[n-1,math.floor(n/2)]=S_t0\n",
    "    else: # n是偶數\n",
    "        S_t[n,math.floor(n/2)]=S_t0\n",
    "    for i in range(n-2, -1, -1):\n",
    "        for j in range(0, i+1, 1):\n",
    "            S_t[i,j]=S_t[i+2,j+1]\n",
    "    # average price\n",
    "    S_ave=np.zeros((n+1, n+1, M+1))\n",
    "    S_ave[0,0,0]=S_ave_t0\n",
    "    for i in range(1, n+1, 1):\n",
    "        for j in range(0, i+1, 1):\n",
    "            S_ave[i,j,0]=(S_ave[0,0,0]*(n_before+1)+S_ave[0,0,0]*u*(1-u**(i-j))/(1-u)+S_ave[0,0,0]*u**(i-j)*d*(1-d**j)/(1-d))/(n_before+i+1)\n",
    "            S_ave[i,j,M]=(S_ave[0,0,0]*(n_before+1)+S_ave[0,0,0]*d*(1-d**j)/(1-d)+S_ave[0,0,0]*d**j*u*(1-u**(i-j))/(1-u))/(n_before+i+1)\n",
    "            for k in range(1, M, 1):\n",
    "                S_ave[i,j,k]=((M-k)*S_ave[i,j,0]+k*S_ave[i,j,M])/M\n",
    "    call=np.zeros((n+1, n+1, M+1))\n",
    "    # i=n\n",
    "    for j in range(0, n+1, 1):\n",
    "        for k in range(0, M+1, 1):\n",
    "            call[n,j,k]=max(S_ave[n,j,k]-K,0)\n",
    "    # backward induction\n",
    "    for i in range(n-1, -1, -1):\n",
    "        for j in range(0, i+1, 1):\n",
    "            for k in range(0, M+1, 1):\n",
    "                A_u=((i+n_before+1)*S_ave[i,j,k]+S_t[i+1,j])/(i+n_before+2) #S_t0*u**(i+1-j)*d**j\n",
    "                A_d=((i+n_before+1)*S_ave[i,j,k]+S_t[i+1,j+1])/(i+n_before+2) #S_t0*u**(i+1-j-1)*d**(j+1)\n",
    "                # binary search\n",
    "                C=int(M/2)\n",
    "                A_next=0\n",
    "                B_next=M\n",
    "                C_next=C\n",
    "                u_num_iterations=0\n",
    "                while u_num_iterations<M:\n",
    "                    if A_u==S_ave[i+1,j,C_next]:\n",
    "                        C_u=call[i+1,j,C_next]\n",
    "                        break\n",
    "                    elif abs(A_next-B_next)<=1:\n",
    "                        if A_u==S_ave[i+1,j,A_next]:\n",
    "                            C_u=call[i+1,j,A_next]\n",
    "                        elif A_u==S_ave[i+1,j,B_next]:\n",
    "                            C_u=call[i+1,j,B_next]\n",
    "                        else:\n",
    "                            k_u=B_next\n",
    "                            if S_ave[i+1,j,k_u-1]-S_ave[i+1,j,k_u]==0:\n",
    "                                w_u=0\n",
    "                            else:\n",
    "                                w_u=(S_ave[i+1,j,k_u-1]-A_u)/(S_ave[i+1,j,k_u-1]-S_ave[i+1,j,k_u])\n",
    "                            C_u=w_u*call[i+1,j,k_u]+(1-w_u)*call[i+1,j,k_u-1]\n",
    "                        break\n",
    "                    else:\n",
    "                        u_num_iterations+=1\n",
    "                        if A_u<S_ave[i+1,j,C_next]:\n",
    "                            A_next=C_next\n",
    "                            C_next=int((B_next+C_next)/2)\n",
    "                        elif A_u>S_ave[i+1,j,C_next]:\n",
    "                            B_next=C_next\n",
    "                            C_next=int((A_next+C_next)/2)\n",
    "                a_next=0\n",
    "                b_next=M\n",
    "                c_next=C\n",
    "                d_num_iterations=0\n",
    "                while d_num_iterations<M:\n",
    "                    if A_d==S_ave[i+1,j+1,c_next]:\n",
    "                        C_d=call[i+1,j+1,c_next]\n",
    "                        break\n",
    "                    elif abs(a_next-b_next)<=1:\n",
    "                        if A_d==S_ave[i+1,j+1,a_next]:\n",
    "                            C_d=call[i+1,j+1,a_next]\n",
    "                        elif A_d==S_ave[i+1,j+1,b_next]:\n",
    "                            C_d=call[i+1,j+1,b_next]\n",
    "                        else:\n",
    "                            k_d=b_next\n",
    "                            if S_ave[i+1,j+1,k_d-1]-S_ave[i+1,j+1,k_d]==0:\n",
    "                                w_d=0\n",
    "                            else:\n",
    "                                w_d=(S_ave[i+1,j+1,k_d-1]-A_d)/(S_ave[i+1,j+1,k_d-1]-S_ave[i+1,j+1,k_d])\n",
    "                            C_d=w_d*call[i+1,j+1,k_d]+(1-w_d)*call[i+1,j+1,k_d-1]\n",
    "                        break\n",
    "                    else:\n",
    "                        d_num_iterations+=1\n",
    "                        if A_u<S_ave[i+1,j+1,c_next]:\n",
    "                            a_next=c_next\n",
    "                            c_next=int((b_next+c_next)/2)\n",
    "                        elif A_u>S_ave[i+1,j+1,c_next]:\n",
    "                            b_next=c_next\n",
    "                            c_next=int((a_next+c_next)/2)\n",
    "                call[i,j,k]=max(S_ave[i,j,k]-K,(p*C_u+(1-p)*C_d)*np.exp(-r*dt))\n",
    "    return call[0,0,0]\n",
    "\n",
    "print('The option value is', BT_average_A_option_price_binary(S_t0, K, r, q, sigma, dt, t0, T, n_before, M, n, S_ave_t0))"
   ]
  },
  {
   "cell_type": "code",
   "execution_count": null,
   "metadata": {},
   "outputs": [],
   "source": [
    "### linear interpolation method"
   ]
  },
  {
   "cell_type": "code",
   "execution_count": null,
   "metadata": {},
   "outputs": [],
   "source": [
    "### European option\n",
    "def BT_average_E_option_price_interpolation(S_t0, K, r, q, sigma, dt, t0, T, n_before, M, n, S_ave_t0):\n",
    "    S_t=np.zeros((n+1, n+1))\n",
    "    for i in range(n-1, n+1, 1):\n",
    "        for j in range(0, i+1, 1):\n",
    "            S_t[i,j]=S_t0*u**(i-j)*d**j\n",
    "    if n%2: # n是奇數\n",
    "        S_t[n-1,math.floor(n/2)]=S_t0\n",
    "    else: # n是偶數\n",
    "        S_t[n,math.floor(n/2)]=S_t0\n",
    "    for i in range(n-2, -1, -1):\n",
    "        for j in range(0, i+1, 1):\n",
    "            S_t[i,j]=S_t[i+2,j+1]\n",
    "    # average price\n",
    "    S_ave=np.zeros((n+1, n+1, M+1))\n",
    "    S_ave[0,0,0]=S_ave_t0\n",
    "    for i in range(1, n+1, 1):\n",
    "        for j in range(0, i+1, 1):\n",
    "            S_ave[i,j,0]=(S_ave[0,0,0]*(n_before+1)+S_ave[0,0,0]*u*(1-u**(i-j))/(1-u)+S_ave[0,0,0]*u**(i-j)*d*(1-d**j)/(1-d))/(n_before+i+1)\n",
    "            S_ave[i,j,M]=(S_ave[0,0,0]*(n_before+1)+S_ave[0,0,0]*d*(1-d**j)/(1-d)+S_ave[0,0,0]*d**j*u*(1-u**(i-j))/(1-u))/(n_before+i+1)\n",
    "            for k in range(1, M, 1):\n",
    "                S_ave[i,j,k]=((M-k)*S_ave[i,j,0]+k*S_ave[i,j,M])/M\n",
    "    call=np.zeros((n+1, n+1, M+1))\n",
    "    # i=n\n",
    "    for j in range(0, n+1, 1):\n",
    "        for k in range(0, M+1, 1):\n",
    "            call[n,j,k]=max(S_ave[n,j,k]-K,0)\n",
    "    # backward induction\n",
    "    for i in range(n-1, -1, -1):\n",
    "        for j in range(0, i+1, 1):\n",
    "            for k in range(0, M+1, 1):\n",
    "                A_u=((i+n_before+1)*S_ave[i,j,k]+S_t[i+1,j])/(i+n_before+2) #S_t0*u**(i+1-j)*d**j\n",
    "                A_d=((i+n_before+1)*S_ave[i,j,k]+S_t[i+1,j+1])/(i+n_before+2) #S_t0*u**(i+1-j-1)*d**(j+1)\n",
    "                # linear interpolation\n",
    "                if A_u>S_ave[i+1,j,0]:\n",
    "                    C_u=call[i+1,j,0]\n",
    "                elif A_u<S_ave[i+1,j,M]:\n",
    "                    C_u=call[i+1,j,M]\n",
    "                else:\n",
    "                    k_u_hat=M*(S_ave[i,j,0]-A_u)/(S_ave[i,j,0]-S_ave[i,j,M])\n",
    "                    if A_u>=S_ave[i,j,math.ceil(k_u_hat)]&&A_u<=S_ave[i,j,math.ceil(k_u_hat)-1]:\n",
    "                        k_u=math.ceil(k_u_hat)\n",
    "                        if S_ave[i+1,j,k_u-1]-S_ave[i+1,j,k_u]==0:\n",
    "                            w_u=0\n",
    "                        else:\n",
    "                            w_u=(S_ave[i+1,j,k_u-1]-A_u)/(S_ave[i+1,j,k_u-1]-S_ave[i+1,j,k_u])\n",
    "                        C_u=w_u*call[i+1,j,k_u]+(1-w_u)*call[i+1,j,k_u-1]\n",
    "                    elif A_u>=S_ave[i,j,math.floor(k_u_hat)]&&A_u<=S_ave[i,j,math.floor(k_u_hat)-1]:\n",
    "                        k_u=math.ceil(u_d_hat)\n",
    "                        if S_ave[i+1,j,k_u-1]-S_ave[i+1,j,k_u]==0:\n",
    "                            w_u=0\n",
    "                        else:\n",
    "                            w_u=(S_ave[i+1,j,k_u-1]-A_u)/(S_ave[i+1,j,k_u-1]-S_ave[i+1,j,k_u])\n",
    "                        C_u=w_u*call[i+1,j,k_u]+(1-w_u)*call[i+1,j,k_u-1]\n",
    "                \n",
    "                \n",
    "                call[i,j,k]=(p*C_u+(1-p)*C_d)*np.exp(-r*dt)\n",
    "    return call[0,0,0]\n",
    "\n",
    "print('The option value is', BT_average_E_option_price_interpolation(S_t0, K, r, q, sigma, dt, t0, T, n_before, M, n, S_ave_t0))"
   ]
  }
 ],
 "metadata": {
  "kernelspec": {
   "display_name": "Python 3",
   "language": "python",
   "name": "python3"
  },
  "language_info": {
   "codemirror_mode": {
    "name": "ipython",
    "version": 3
   },
   "file_extension": ".py",
   "mimetype": "text/x-python",
   "name": "python",
   "nbconvert_exporter": "python",
   "pygments_lexer": "ipython3",
   "version": "3.7.3"
  }
 },
 "nbformat": 4,
 "nbformat_minor": 2
}
