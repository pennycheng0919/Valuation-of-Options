{
 "cells": [
  {
   "cell_type": "markdown",
   "metadata": {},
   "source": [
    "# Homework 2\n",
    "B06201053 數學四 鄭心慈"
   ]
  },
  {
   "cell_type": "markdown",
   "metadata": {},
   "source": [
    "#### For plain vanilla calls and puts, implement the following option pricing methods:"
   ]
  },
  {
   "cell_type": "markdown",
   "metadata": {},
   "source": [
    "## Basic requirement (80 points)"
   ]
  },
  {
   "cell_type": "markdown",
   "metadata": {},
   "source": [
    "$\n",
    "\\left\\{\n",
    "    \\begin{array}{ll}\n",
    "        \\mbox{Black-Scholes formulas (for European options)}\\\\\n",
    "        \\\\\n",
    "        \\mbox{Monte Carlo simulation (for European options)}\\\\\n",
    "        \\\\\n",
    "        \\mbox{CRR binomial tree model (for both European and American options)}\n",
    "    \\end{array}\n",
    "\\right.\n",
    "$"
   ]
  },
  {
   "cell_type": "markdown",
   "metadata": {},
   "source": [
    ">Inputs: $S_0$, $K$, $r$, $q$, $\\sigma$, $T$, number of simulations, number of repetitions, $n$.\n",
    "\n",
    ">Outputs: Option values for all methods and 95% confidence interval for Monte Carlo simulation."
   ]
  },
  {
   "cell_type": "code",
   "execution_count": null,
   "metadata": {},
   "outputs": [],
   "source": [
    "import numpy as np"
   ]
  },
  {
   "cell_type": "code",
   "execution_count": null,
   "metadata": {},
   "outputs": [],
   "source": [
    "### input"
   ]
  },
  {
   "cell_type": "code",
   "execution_count": null,
   "metadata": {},
   "outputs": [],
   "source": [
    "S_0=float(input('Please input S_0: '))"
   ]
  },
  {
   "cell_type": "code",
   "execution_count": null,
   "metadata": {},
   "outputs": [],
   "source": [
    "K=float(input('Please input K: '))"
   ]
  },
  {
   "cell_type": "code",
   "execution_count": null,
   "metadata": {},
   "outputs": [],
   "source": [
    "r=float(input('Please input r: '))"
   ]
  },
  {
   "cell_type": "code",
   "execution_count": null,
   "metadata": {},
   "outputs": [],
   "source": [
    "q=float(input('Please input q: '))"
   ]
  },
  {
   "cell_type": "code",
   "execution_count": null,
   "metadata": {},
   "outputs": [],
   "source": [
    "sigma=float(input('Please input sigma: '))"
   ]
  },
  {
   "cell_type": "code",
   "execution_count": null,
   "metadata": {},
   "outputs": [],
   "source": [
    "T=float(input('Please input T: '))"
   ]
  },
  {
   "cell_type": "code",
   "execution_count": null,
   "metadata": {},
   "outputs": [],
   "source": [
    "n_si=int(input('Please input number of simulations: '))"
   ]
  },
  {
   "cell_type": "code",
   "execution_count": null,
   "metadata": {},
   "outputs": [],
   "source": [
    "n_re=int(input('Please input number of repetitions: '))"
   ]
  },
  {
   "cell_type": "code",
   "execution_count": null,
   "metadata": {},
   "outputs": [],
   "source": [
    "n=int(input('Please input n: '))"
   ]
  },
  {
   "cell_type": "code",
   "execution_count": null,
   "metadata": {},
   "outputs": [],
   "source": [
    "### Black-Scholes formulas"
   ]
  },
  {
   "cell_type": "code",
   "execution_count": null,
   "metadata": {},
   "outputs": [],
   "source": [
    "from scipy.stats import norm"
   ]
  },
  {
   "cell_type": "code",
   "execution_count": null,
   "metadata": {},
   "outputs": [],
   "source": [
    "### European call option\n",
    "def BS_call_price(S_0, K, r, q, sigma, T):\n",
    "    d_1=(np.log(S_0/K)+(r-q+sigma**2/2)*T)/(sigma*np.sqrt(T))\n",
    "    N_d_1=norm.cdf(d_1)\n",
    "    d_2=(np.log(S_0/K)+(r-q-sigma**2/2)*T)/(sigma*np.sqrt(T))\n",
    "    N_d_2=norm.cdf(d_2)\n",
    "    price=S_0*np.exp(-q*T)*N_d_1-np.exp(-r*T)*K*N_d_2\n",
    "    return price\n",
    "\n",
    "print(BS_call_price(S_0, K, r, q, sigma, T))"
   ]
  },
  {
   "cell_type": "code",
   "execution_count": null,
   "metadata": {},
   "outputs": [],
   "source": [
    "### European put option\n",
    "def BS_put_price(S_0, K, r, q, sigma, T):\n",
    "    d_1=(np.log(S_0/K)+(r-q+sigma**2/2)*T)/(sigma*np.sqrt(T))\n",
    "    m_N_d_1=norm.cdf(-d_1)\n",
    "    d_2=(np.log(S_0/K)+(r-q-sigma**2/2)*T)/(sigma*np.sqrt(T))\n",
    "    m_N_d_2=norm.cdf(-d_2)\n",
    "    price=np.exp(-r*T)*K*m_N_d_2-S_0*np.exp(-q*T)*m_N_d_1\n",
    "    return price\n",
    "\n",
    "print(BS_put_price(S_0, K, r, q, sigma, T))"
   ]
  },
  {
   "cell_type": "code",
   "execution_count": null,
   "metadata": {},
   "outputs": [],
   "source": [
    "### Monte Carlo simulation"
   ]
  },
  {
   "cell_type": "code",
   "execution_count": null,
   "metadata": {},
   "outputs": [],
   "source": [
    "### European call option\n",
    "def MC_call_price(S_0, K, r, q, sigma, T, n_si):\n",
    "    S_T=np.exp(np.random.normal(np.log(S_0)+(r-q-sigma**2/2)*T, np.sqrt(sigma**2*T), n_si))\n",
    "    payoff=np.zeros(n_si)\n",
    "    for i in range(0, n_si, 1):\n",
    "        if K<=S_T[i]:\n",
    "            payoff[i]=S_T[i]-K\n",
    "    price=np.exp(-r*T)*np.mean(payoff)\n",
    "    return price\n",
    "\n",
    "sample=np.zeros(n_re)\n",
    "for i in range(0, n_re, 1):\n",
    "    sample[i]=MC_call_price(S_0, K, r, q, sigma, T, n_si)\n",
    "\n",
    "print('[', np.mean(sample)-2*np.std(sample), ',', np.mean(sample)+2*np.std(sample), ']')"
   ]
  },
  {
   "cell_type": "code",
   "execution_count": null,
   "metadata": {},
   "outputs": [],
   "source": [
    "### European put option\n",
    "def MC_put_price(S_0, K, r, q, sigma, T, n_si):\n",
    "    S_T=np.exp(np.random.normal(np.log(S_0)+(r-q-sigma**2/2)*T, np.sqrt(sigma**2*T), n_si))\n",
    "    payoff=np.zeros(n_si)\n",
    "    for i in range(0, n_si, 1):\n",
    "        if K>=S_T[i]:\n",
    "            payoff[i]=K-S_T[i]\n",
    "    price=np.exp(-r*T)*np.mean(payoff)\n",
    "    return price\n",
    "\n",
    "sample=np.zeros(n_re)\n",
    "for i in range(0, n_re, 1):\n",
    "    sample[i]=MC_put_price(S_0, K, r, q, sigma, T, n_si)\n",
    "\n",
    "print('[', np.mean(sample)-2*np.std(sample), ',', np.mean(sample)+2*np.std(sample), ']')"
   ]
  },
  {
   "cell_type": "code",
   "execution_count": null,
   "metadata": {},
   "outputs": [],
   "source": [
    "### CRR binomial tree model"
   ]
  },
  {
   "cell_type": "code",
   "execution_count": null,
   "metadata": {},
   "outputs": [],
   "source": [
    "dt=T/n\n",
    "u=np.exp(sigma*np.sqrt(dt))\n",
    "d=1/u\n",
    "p=(np.exp((r-q)*dt)-d)/(u-d)"
   ]
  },
  {
   "cell_type": "code",
   "execution_count": null,
   "metadata": {},
   "outputs": [],
   "source": [
    "### European call option\n",
    "def CRR_E_call_price(S_0, K, r, q, sigma, dt, n):\n",
    "    S_t=np.zeros((n+1, n+1))\n",
    "    for i in range(0, n+1, 1):\n",
    "        for j in range(0, i+1, 1):\n",
    "            S_t[i,j]=S_0*u**(i-j)*d**j\n",
    "    c_t=np.zeros((n+1, n+1))\n",
    "    for j in range(0, n+1, 1):\n",
    "        c_t[n,j]=max(S_t[n,j]-K,0)\n",
    "    for i in range(n-1, -1, -1):\n",
    "        for j in range(0, i+1, 1):\n",
    "            c_t[i,j]=np.exp(-r*dt)*(p*c_t[i+1,j]+(1-p)*c_t[i+1,j+1])\n",
    "    return c_t[0,0]\n",
    "\n",
    "print(CRR_E_call_price(S_0, K, r, q, sigma, dt, n))"
   ]
  },
  {
   "cell_type": "code",
   "execution_count": null,
   "metadata": {},
   "outputs": [],
   "source": [
    "### European put option\n",
    "def CRR_E_put_price(S_0, K, r, q, sigma, dt, n):\n",
    "    S_t=np.zeros((n+1, n+1))\n",
    "    for i in range(0, n+1, 1):\n",
    "        for j in range(0, i+1, 1):\n",
    "            S_t[i,j]=S_0*u**(i-j)*d**j\n",
    "    p_t=np.zeros((n+1, n+1))\n",
    "    for j in range(0, n+1, 1):\n",
    "        p_t[n,j]=max(K-S_t[n,j],0)\n",
    "    for i in range(n-1, -1, -1):\n",
    "        for j in range(0, i+1, 1):\n",
    "            p_t[i,j]=np.exp(-r*dt)*(p*p_t[i+1,j]+(1-p)*p_t[i+1,j+1])\n",
    "    return p_t[0,0]\n",
    "\n",
    "print(CRR_E_put_price(S_0, K, r, q, sigma, dt, n))"
   ]
  },
  {
   "cell_type": "code",
   "execution_count": null,
   "metadata": {},
   "outputs": [],
   "source": [
    "### American call option\n",
    "def CRR_A_call_price(S_0, K, r, q, sigma, dt, n):\n",
    "    S_t=np.zeros((n+1, n+1))\n",
    "    for i in range(0, n+1, 1):\n",
    "        for j in range(0, i+1, 1):\n",
    "            S_t[i,j]=S_0*u**(i-j)*d**j\n",
    "    c_t=np.zeros((n+1, n+1))\n",
    "    for j in range(0, n+1, 1):\n",
    "        c_t[n,j]=max(S_t[n,j]-K,0)\n",
    "        if K<=S_t[n,j]:\n",
    "            c_t[n,j]=S_t[n,j]-K\n",
    "    for i in range(n-1, -1, -1):\n",
    "        for j in range(0, i+1, 1):\n",
    "            c_t[i,j]=max(np.exp(-r*dt)*(p*c_t[i+1,j]+(1-p)*c_t[i+1,j+1]),S_t[i,j]-K)\n",
    "    return c_t[0,0]\n",
    "\n",
    "print(CRR_A_call_price(S_0, K, r, q, sigma, dt, n))"
   ]
  },
  {
   "cell_type": "code",
   "execution_count": null,
   "metadata": {},
   "outputs": [],
   "source": [
    "### American put option\n",
    "def CRR_A_put_price(S_0, K, r, q, sigma, dt, n):\n",
    "    S_t=np.zeros((n+1, n+1))\n",
    "    for i in range(0, n+1, 1):\n",
    "        for j in range(0, i+1, 1):\n",
    "            S_t[i,j]=S_0*u**(i-j)*d**j\n",
    "    p_t=np.zeros((n+1, n+1))\n",
    "    for j in range(0, n+1, 1):\n",
    "        if K>=S_t[n,j]:\n",
    "            p_t[n,j]=K-S_t[n,j]\n",
    "    for i in range(n-1, -1, -1):\n",
    "        for j in range(0, i+1, 1):\n",
    "            p_t[i,j]=max(np.exp(-r*dt)*(p*p_t[i+1,j]+(1-p)*p_t[i+1,j+1]),K-S_t[i,j])\n",
    "    return p_t[0,0]\n",
    "\n",
    "print(CRR_A_put_price(S_0, K, r, q, sigma, dt, n))"
   ]
  },
  {
   "cell_type": "markdown",
   "metadata": {},
   "source": [
    "## Bonus 1 (5 points)"
   ]
  },
  {
   "cell_type": "markdown",
   "metadata": {},
   "source": [
    "Implement the CRR binomial tree with one column vector."
   ]
  },
  {
   "cell_type": "code",
   "execution_count": null,
   "metadata": {},
   "outputs": [],
   "source": [
    "dt=T/n\n",
    "u=np.exp(sigma*np.sqrt(dt))\n",
    "d=1/u\n",
    "p=(np.exp((r-q)*dt)-d)/(u-d)"
   ]
  },
  {
   "cell_type": "code",
   "execution_count": null,
   "metadata": {},
   "outputs": [],
   "source": [
    "### European call option\n",
    "def CRR_E_call_price_1(S_0, K, r, q, sigma, dt, n):\n",
    "    c_t=np.zeros(n+1)\n",
    "    for j in range(0, n+1, 1):\n",
    "        c_t[j]=max(S_0*u**(n-j)*d**j-K,0)\n",
    "    for i in range(n-1, -1, -1):\n",
    "        for j in range(0, i+1, 1):\n",
    "            c_t[j]=np.exp(-r*dt)*(p*c_t[j]+(1-p)*c_t[j+1])\n",
    "    return c_t[0]\n",
    "\n",
    "print(CRR_E_call_price_1(S_0, K, r, q, sigma, dt, n))"
   ]
  },
  {
   "cell_type": "code",
   "execution_count": null,
   "metadata": {},
   "outputs": [],
   "source": [
    "### European put option\n",
    "def CRR_E_put_price_1(S_0, K, r, q, sigma, dt, n):\n",
    "    p_t=np.zeros(n+1)\n",
    "    for j in range(0, n+1, 1):\n",
    "        p_t[j]=max(K-S_0*u**(n-j)*d**j,0)\n",
    "    for i in range(n-1, -1, -1):\n",
    "        for j in range(0, i+1, 1):\n",
    "            p_t[j]=np.exp(-r*dt)*(p*p_t[j]+(1-p)*p_t[j+1])\n",
    "    return p_t[0]\n",
    "\n",
    "print(CRR_E_put_price_1(S_0, K, r, q, sigma, dt, n))"
   ]
  },
  {
   "cell_type": "code",
   "execution_count": null,
   "metadata": {},
   "outputs": [],
   "source": [
    "### American call option\n",
    "def CRR_A_call_price_1(S_0, K, r, q, sigma, dt, n):\n",
    "    c_t=np.zeros(n+1)\n",
    "    for j in range(0, n+1, 1):\n",
    "        c_t[j]=max(S_0*u**(n-j)*d**j-K,0)\n",
    "    for i in range(n-1, -1, -1):\n",
    "        for j in range(0, i+1, 1):\n",
    "            c_t[j]=max(np.exp(-r*dt)*(p*c_t[j]+(1-p)*c_t[j+1]),S_0*u**(i-j)*d**j-K)\n",
    "    return c_t[0]\n",
    "\n",
    "print(CRR_A_call_price_1(S_0, K, r, q, sigma, dt, n))"
   ]
  },
  {
   "cell_type": "code",
   "execution_count": null,
   "metadata": {},
   "outputs": [],
   "source": [
    "### American put option\n",
    "def CRR_A_put_price_1(S_0, K, r, q, sigma, dt, n):\n",
    "    p_t=np.zeros(n+1)\n",
    "    for j in range(0, n+1, 1):\n",
    "        p_t[j]=max(K-S_0*u**(n-j)*d**j,0)\n",
    "    for i in range(n-1, -1, -1):\n",
    "        for j in range(0, i+1, 1):\n",
    "            p_t[j]=max(np.exp(-r*dt)*(p*p_t[j]+(1-p)*p_t[j+1]),K-S_0*u**(i-j)*d**j)\n",
    "    return p_t[0]\n",
    "\n",
    "print(CRR_A_put_price_1(S_0, K, r, q, sigma, dt, n))"
   ]
  },
  {
   "cell_type": "markdown",
   "metadata": {},
   "source": [
    "## Bonus 2 (5 points)"
   ]
  },
  {
   "cell_type": "markdown",
   "metadata": {},
   "source": [
    "Implement the combinatorial method to price European options."
   ]
  },
  {
   "cell_type": "code",
   "execution_count": null,
   "metadata": {},
   "outputs": [],
   "source": [
    "dt=T/n\n",
    "u=np.exp(sigma*np.sqrt(dt))\n",
    "d=1/u\n",
    "p=(np.exp((r-q)*dt)-d)/(u-d)"
   ]
  },
  {
   "cell_type": "code",
   "execution_count": null,
   "metadata": {},
   "outputs": [],
   "source": [
    "### European call option\n",
    "def CB_call_price(S_0, K, r, q, sigma, T, n):\n",
    "    summ=np.zeros(n+1)\n",
    "    for i in range(0, n+1, 1):\n",
    "        if S_0*u**(n-i)*d**i>K:\n",
    "            for j in range(1, i+1, 1):\n",
    "                summ[i]-=np.log(j)\n",
    "            for j in range(n-i+1, n+1, 1):\n",
    "                summ[i]+=np.log(j)\n",
    "            summ[i]+=(n-i)*np.log(p)+i*np.log(1-p)+np.log(S_0*u**(n-i)*d**i-K)\n",
    "            summ[i]=np.exp(summ[i])\n",
    "    return np.exp(-r*T)*sum(summ)\n",
    "\n",
    "print(CB_call_price(S_0, K, r, q, sigma, T, n))"
   ]
  },
  {
   "cell_type": "code",
   "execution_count": null,
   "metadata": {},
   "outputs": [],
   "source": [
    "### European put option\n",
    "def CB_put_price(S_0, K, r, q, sigma, T, n):\n",
    "    summ=np.zeros(n+1)\n",
    "    for i in range(0, n+1, 1):\n",
    "        if S_0*u**(n-i)*d**i<K:\n",
    "            for j in range(1, i+1, 1):\n",
    "                summ[i]-=np.log(j)\n",
    "            for j in range(n-i+1, n+1, 1):\n",
    "                summ[i]+=np.log(j)\n",
    "            summ[i]+=(n-i)*np.log(p)+i*np.log(1-p)+np.log(K-S_0*u**(n-i)*d**i)\n",
    "            summ[i]=np.exp(summ[i])\n",
    "    return np.exp(-r*T)*sum(summ)\n",
    "\n",
    "print(CB_put_price(S_0, K, r, q, sigma, T, n))"
   ]
  },
  {
   "cell_type": "code",
   "execution_count": null,
   "metadata": {},
   "outputs": [],
   "source": []
  }
 ],
 "metadata": {
  "kernelspec": {
   "display_name": "Python 3",
   "language": "python",
   "name": "python3"
  },
  "language_info": {
   "codemirror_mode": {
    "name": "ipython",
    "version": 3
   },
   "file_extension": ".py",
   "mimetype": "text/x-python",
   "name": "python",
   "nbconvert_exporter": "python",
   "pygments_lexer": "ipython3",
   "version": "3.7.3"
  }
 },
 "nbformat": 4,
 "nbformat_minor": 2
}
