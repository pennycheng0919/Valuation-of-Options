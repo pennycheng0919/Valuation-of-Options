{
 "cells": [
  {
   "cell_type": "markdown",
   "metadata": {},
   "source": [
    "# Task 3\n",
    "B06201053 數學四 鄭心慈"
   ]
  },
  {
   "cell_type": "markdown",
   "metadata": {},
   "source": [
    "Price a maximum rainbow option with the payoff $\\max\\left(\\max(S_{1T}, S_{2T},..., S_{nT})−K, 0\\right)$ using the Monte Carlo simulatiton."
   ]
  },
  {
   "cell_type": "markdown",
   "metadata": {},
   "source": [
    ">Inputs: $K$, $r$, $T$, number of simulations, number of repetitions, $n$, $S_{10}$, $S_{20}$,..., $S_{n0}$, $q_1$, $q_2$,..., $q_n$, $\\sigma_1$, $\\sigma_2$,..., $\\sigma_n$, $\\rho_{ij}$, $1 \\le i<j \\le n$.\n",
    "\n",
    ">Outputs: Option value and 95% confidence interval."
   ]
  },
  {
   "cell_type": "markdown",
   "metadata": {},
   "source": [
    "## Basic requirement (80 points)"
   ]
  },
  {
   "cell_type": "markdown",
   "metadata": {},
   "source": [
    "Apply the Cholesky decomposition method to pricing the above rainbow option."
   ]
  },
  {
   "cell_type": "code",
   "execution_count": 1,
   "metadata": {},
   "outputs": [],
   "source": [
    "import numpy as np"
   ]
  },
  {
   "cell_type": "code",
   "execution_count": 2,
   "metadata": {},
   "outputs": [],
   "source": [
    "### input"
   ]
  },
  {
   "cell_type": "code",
   "execution_count": 3,
   "metadata": {},
   "outputs": [
    {
     "name": "stdout",
     "output_type": "stream",
     "text": [
      "Please input K: 100\n"
     ]
    }
   ],
   "source": [
    "K=float(input('Please input K: '))"
   ]
  },
  {
   "cell_type": "code",
   "execution_count": 4,
   "metadata": {},
   "outputs": [
    {
     "name": "stdout",
     "output_type": "stream",
     "text": [
      "Please input r: 0.1\n"
     ]
    }
   ],
   "source": [
    "r=float(input('Please input r: '))"
   ]
  },
  {
   "cell_type": "code",
   "execution_count": 5,
   "metadata": {},
   "outputs": [
    {
     "name": "stdout",
     "output_type": "stream",
     "text": [
      "Please input T: 0.5\n"
     ]
    }
   ],
   "source": [
    "T=float(input('Please input T: '))"
   ]
  },
  {
   "cell_type": "code",
   "execution_count": 6,
   "metadata": {},
   "outputs": [
    {
     "name": "stdout",
     "output_type": "stream",
     "text": [
      "Please input number of simulations: 10000\n"
     ]
    }
   ],
   "source": [
    "n_si=int(input('Please input number of simulations: '))"
   ]
  },
  {
   "cell_type": "code",
   "execution_count": 7,
   "metadata": {},
   "outputs": [
    {
     "name": "stdout",
     "output_type": "stream",
     "text": [
      "Please input number of repetitions: 20\n"
     ]
    }
   ],
   "source": [
    "n_re=int(input('Please input number of repetitions: '))"
   ]
  },
  {
   "cell_type": "code",
   "execution_count": 8,
   "metadata": {},
   "outputs": [
    {
     "name": "stdout",
     "output_type": "stream",
     "text": [
      "Please input n: 5\n"
     ]
    }
   ],
   "source": [
    "n=int(input('Please input n: '))"
   ]
  },
  {
   "cell_type": "code",
   "execution_count": 9,
   "metadata": {},
   "outputs": [
    {
     "name": "stdout",
     "output_type": "stream",
     "text": [
      "Please input S_10,..., S_50: 95 95 95 95 95\n"
     ]
    }
   ],
   "source": [
    "S_0=list(map(float,input('Please input S_10,..., S_%d0: ' %n).strip().split()))[:n]"
   ]
  },
  {
   "cell_type": "code",
   "execution_count": 10,
   "metadata": {},
   "outputs": [
    {
     "name": "stdout",
     "output_type": "stream",
     "text": [
      "Please input q_1,..., q_5: 0.05 0.05 0.05 0.05 0.05\n"
     ]
    }
   ],
   "source": [
    "q=list(map(float,input('Please input q_1,..., q_%d: ' %n).strip().split()))[:n]"
   ]
  },
  {
   "cell_type": "code",
   "execution_count": 11,
   "metadata": {},
   "outputs": [
    {
     "name": "stdout",
     "output_type": "stream",
     "text": [
      "Please input sigma_1,..., sigma_5: 0.5 0.5 0.5 0.5 0.5\n"
     ]
    }
   ],
   "source": [
    "sigma=list(map(float,input('Please input sigma_1,..., sigma_%d: ' %n).strip().split()))[:n]"
   ]
  },
  {
   "cell_type": "code",
   "execution_count": 12,
   "metadata": {},
   "outputs": [
    {
     "name": "stdout",
     "output_type": "stream",
     "text": [
      "Please input rho_12,..., rho_15: 0.5 0.5 0.5 0.5\n",
      "Please input rho_23,..., rho_25: 0.5 0.5 0.5\n",
      "Please input rho_34,..., rho_35: 0.5 0.5\n",
      "Please input rho_45,..., rho_45: 0.5\n"
     ]
    }
   ],
   "source": [
    "rho=np.identity(n)\n",
    "for i in range(0, n-1, 1):\n",
    "    rho[i,i+1:n]=list(map(float,input('Please input rho_%d%d,..., rho_%d%d: ' %(i+1,i+2,i+1,n)).strip().split()))[:n-i]"
   ]
  },
  {
   "cell_type": "code",
   "execution_count": 13,
   "metadata": {},
   "outputs": [],
   "source": [
    "### Cholesky decomposition\n",
    "def cholesky_decomposition(A):\n",
    "    '''\n",
    "    Arguments:\n",
    "        A : 2D np.array\n",
    "\n",
    "    Return:\n",
    "        R : 2D np.array, A = R^T R\n",
    "    '''\n",
    "    assert len(A.shape) == 2\n",
    "    m, n = A.shape\n",
    "    assert m == n\n",
    "    R = np.zeros([m, n])\n",
    "    for i in range(0, m):\n",
    "        for j in range(i, m):\n",
    "            sum_d = sum(R[k, i] * R[k, j] for k in range(0, i))\n",
    "            if i == j:\n",
    "                R[i, j] = np.sqrt(A[i, j] - sum_d)\n",
    "            else:\n",
    "                R[i, j] = (A[i, j] - sum_d) / R[i, i]\n",
    "    \n",
    "    return R"
   ]
  },
  {
   "cell_type": "code",
   "execution_count": 14,
   "metadata": {},
   "outputs": [],
   "source": [
    "### variance-covariance matrix\n",
    "def C_matrix(T, n, sigma, rho):\n",
    "    C=np.zeros([n,n])\n",
    "    for i in range(0, n, 1):\n",
    "        for j in range(0, n, 1):\n",
    "            if i==j:\n",
    "                C[i,j]=sigma[i]**2*T\n",
    "            if i<j:\n",
    "                C[i,j]=rho[i,j]*sigma[i]*sigma[j]*T\n",
    "            else:\n",
    "                C[i,j]=rho[j,i]*sigma[i]*sigma[j]*T\n",
    "    return C"
   ]
  },
  {
   "cell_type": "code",
   "execution_count": 15,
   "metadata": {},
   "outputs": [],
   "source": [
    "### standard normal sample\n",
    "def Z_hat(n_si, n):\n",
    "    Z_hat=np.zeros([n_si,n])\n",
    "    for i in range(0, n, 1):\n",
    "        Z_hat[:,i]=np.random.normal(0, 1, n_si)\n",
    "    return Z_hat"
   ]
  },
  {
   "cell_type": "code",
   "execution_count": 16,
   "metadata": {},
   "outputs": [],
   "source": [
    "def rainbow_option_price(K, r, T, n, S_0, q, sigma, rho, Z_hat):\n",
    "    A=cholesky_decomposition(C_matrix(T, n, sigma, rho))\n",
    "    r_hat=Z_hat@A\n",
    "    mu=np.zeros(n)\n",
    "    for i in range(0, n, 1):\n",
    "        mu[i]=np.log(S_0[i])+(r-q[i]-sigma[i]**2/2)*T\n",
    "    S_T_hat=np.exp(mu+r_hat)\n",
    "    payoff=np.zeros(n_si)\n",
    "    for i in range(0, n_si, 1):\n",
    "        payoff[i]=max(max(S_T_hat[i])-K,0)\n",
    "    price=np.exp(-r*T)*np.mean(payoff)\n",
    "    return price"
   ]
  },
  {
   "cell_type": "code",
   "execution_count": 18,
   "metadata": {},
   "outputs": [
    {
     "name": "stdout",
     "output_type": "stream",
     "text": [
      "[[0.35355339 0.1767767  0.1767767  0.1767767  0.1767767 ]\n",
      " [0.         0.30618622 0.10206207 0.10206207 0.10206207]\n",
      " [0.         0.         0.28867513 0.07216878 0.07216878]\n",
      " [0.         0.         0.         0.2795085  0.0559017 ]\n",
      " [0.         0.         0.         0.         0.27386128]]\n"
     ]
    }
   ],
   "source": [
    "A=cholesky_decomposition(C_matrix(T, n, sigma, rho))\n",
    "print(A)"
   ]
  },
  {
   "cell_type": "code",
   "execution_count": 17,
   "metadata": {},
   "outputs": [
    {
     "name": "stdout",
     "output_type": "stream",
     "text": [
      "The option value is 30.31891776050832\n",
      "The 95% confidence interval is [ 29.903141340382962 , 30.734694180633678 ]\n"
     ]
    }
   ],
   "source": [
    "### simulation\n",
    "sample=np.zeros(n_re)\n",
    "for i in range(0, n_re, 1):\n",
    "    sample[i]=rainbow_option_price(K, r, T, n, S_0, q, sigma, rho, Z_hat(n_si, n))\n",
    "\n",
    "print('The option value is', np.mean(sample))\n",
    "print('The 95% confidence interval is','[', np.mean(sample)-2*np.std(sample), ',', np.mean(sample)+2*np.std(sample), ']')"
   ]
  },
  {
   "cell_type": "markdown",
   "metadata": {},
   "source": [
    "## Bonus 1 (5 points)"
   ]
  },
  {
   "cell_type": "markdown",
   "metadata": {},
   "source": [
    "Combine the antithetic variate approach and moment matching method to price the above rainbow option."
   ]
  },
  {
   "cell_type": "code",
   "execution_count": null,
   "metadata": {},
   "outputs": [],
   "source": [
    "import math"
   ]
  },
  {
   "cell_type": "code",
   "execution_count": null,
   "metadata": {},
   "outputs": [],
   "source": [
    "### standard normal sample(antithetic variate approach and moment matching method)\n",
    "def Z_hat_1(n_si, n):\n",
    "    Z_hat=np.zeros([n_si,n])\n",
    "    for i in range(0, n, 1):\n",
    "        Z_hat[0:math.ceil(n_si/2),i]=np.random.normal(0, 1, math.ceil(n_si/2))\n",
    "        for j in range(math.ceil(n_si/2), n_si, 1):\n",
    "            Z_hat[j,i]=-Z_hat[j-math.ceil(n_si/2),i]\n",
    "    sigma_Z_hat=np.zeros(n)\n",
    "    for i in range(0, n, 1):\n",
    "         sigma_Z_hat[i]=np.std(Z_hat[:,i])\n",
    "    Z_hat/=sigma_Z_hat\n",
    "    return Z_hat\n",
    "\n",
    "Z=np.empty((n_re, n_si, n))\n",
    "for i in range(0,n_re,1):\n",
    "    Z[i]=Z_hat_1(n_si, n)"
   ]
  },
  {
   "cell_type": "code",
   "execution_count": null,
   "metadata": {},
   "outputs": [],
   "source": [
    "### simulation\n",
    "sample=np.zeros(n_re)\n",
    "for i in range(0, n_re, 1):\n",
    "    sample[i]=rainbow_option_price(K, r, T, n, S_0, q, sigma, rho, Z[i])\n",
    "\n",
    "print('The option value is', np.mean(sample))\n",
    "print('The 95% confidence interval is','[', np.mean(sample)-2*np.std(sample), ',', np.mean(sample)+2*np.std(sample), ']')"
   ]
  },
  {
   "cell_type": "markdown",
   "metadata": {},
   "source": [
    "## Bonus 2 (10 points)"
   ]
  },
  {
   "cell_type": "markdown",
   "metadata": {},
   "source": [
    "Implement the inverse Cholesky method in Wang (2008) to price the above rainbow option."
   ]
  },
  {
   "cell_type": "code",
   "execution_count": null,
   "metadata": {},
   "outputs": [],
   "source": [
    "from numpy.linalg import inv"
   ]
  },
  {
   "cell_type": "code",
   "execution_count": null,
   "metadata": {},
   "outputs": [],
   "source": [
    "def rainbow_option_price_1(K, r, T, n, S_0, q, sigma, rho, Z_hat):\n",
    "    A=cholesky_decomposition(C_matrix(T, n, sigma, rho))\n",
    "    B=cholesky_decomposition(np.cov(Z_hat,rowvar=False))\n",
    "    r_hat=Z_hat@inv(B)@A\n",
    "    mu=np.zeros(n)\n",
    "    for i in range(0, n, 1):\n",
    "        mu[i]=np.log(S_0[i])+(r-q[i]-sigma[i]**2/2)*T\n",
    "    S_T_hat=np.exp(mu+r_hat)\n",
    "    payoff=np.zeros(n_si)\n",
    "    for i in range(0, n_si, 1):\n",
    "        payoff[i]=max(max(S_T_hat[i])-K,0)\n",
    "    price=np.exp(-r*T)*np.mean(payoff)\n",
    "    return price"
   ]
  },
  {
   "cell_type": "code",
   "execution_count": null,
   "metadata": {},
   "outputs": [],
   "source": [
    "### simulation\n",
    "sample=np.zeros(n_re)\n",
    "for i in range(0, n_re, 1):\n",
    "    sample[i]=rainbow_option_price_1(K, r, T, n, S_0, q, sigma, rho, Z[i])\n",
    "\n",
    "print('The option value is', np.mean(sample))\n",
    "print('The 95% confidence interval is','[', np.mean(sample)-2*np.std(sample), ',', np.mean(sample)+2*np.std(sample), ']')"
   ]
  },
  {
   "cell_type": "markdown",
   "metadata": {},
   "source": [
    "## Reference"
   ]
  },
  {
   "cell_type": "markdown",
   "metadata": {},
   "source": [
    "Wang (2008), “Variance Reduction for Multivariate Monte Carlo Simulation,”  _Journal of Derivatives_ 16, pp. 7–28."
   ]
  }
 ],
 "metadata": {
  "kernelspec": {
   "display_name": "Python 3",
   "language": "python",
   "name": "python3"
  },
  "language_info": {
   "codemirror_mode": {
    "name": "ipython",
    "version": 3
   },
   "file_extension": ".py",
   "mimetype": "text/x-python",
   "name": "python",
   "nbconvert_exporter": "python",
   "pygments_lexer": "ipython3",
   "version": "3.7.3"
  }
 },
 "nbformat": 4,
 "nbformat_minor": 2
}
