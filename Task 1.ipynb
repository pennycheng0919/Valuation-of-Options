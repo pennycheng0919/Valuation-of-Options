{
 "cells": [
  {
   "cell_type": "markdown",
   "metadata": {},
   "source": [
    "# Task 1\n",
    "B06201053 數學四 鄭心慈"
   ]
  },
  {
   "cell_type": "markdown",
   "metadata": {},
   "source": [
    "#### Derive the closed-form formula for an option with the following payoff function:"
   ]
  },
  {
   "attachments": {
    "Homework_1.png": {
     "image/png": "[encoded data removed]"
    }
   },
   "cell_type": "markdown",
   "metadata": {},
   "source": [
    "![Homework_1.png](attachment:Homework_1.png)"
   ]
  },
  {
   "cell_type": "markdown",
   "metadata": {},
   "source": [
    "## Basic requirement (80 points)"
   ]
  },
  {
   "cell_type": "markdown",
   "metadata": {},
   "source": [
    "(i) Utilize the martingale pricing method to derive the closed-form formula by hands."
   ]
  },
  {
   "cell_type": "markdown",
   "metadata": {},
   "source": [
    "$$\n",
    "\\begin{align*}\n",
    "    c(S_0, 0)=\\;&e^{-rT}E^Q\\left[(S_T-K_1)1_A+(K_2-K_1)1_B+\\frac{K_2-K_1}{K_4-K_3}(K_4-S_T)1_C\\right]\\\\\n",
    "    &\\text{where}\n",
    "    \\  \n",
    "    \\begin{array}{l}\n",
    "        1_A=\n",
    "        \\left\\{\n",
    "        \\begin{array}{ll}\n",
    "            1, & \\mbox{if $K_1<S_T \\le K_2$}\\\\\n",
    "            0, & \\mbox{otherwise.}\\\\\n",
    "        \\end{array}\n",
    "        \\right.\n",
    "        \\\\\n",
    "        \\\\\n",
    "        1_B=\n",
    "        \\left\\{\n",
    "        \\begin{array}{ll}\n",
    "            1, & \\mbox{if $K_2<S_T \\le K_3$}\\\\\n",
    "            0, & \\mbox{otherwise.}\\\\\n",
    "        \\end{array}\n",
    "        \\right.\n",
    "        \\\\\n",
    "        \\\\\n",
    "        1_C=\n",
    "        \\left\\{\n",
    "        \\begin{array}{ll}\n",
    "            1, & \\mbox{if $K_3<S_T \\le K_4$}\\\\\n",
    "            0, & \\mbox{otherwise.}\\\\\n",
    "        \\end{array}\n",
    "        \\right.\n",
    "    \\end{array}\n",
    "    \\\n",
    "    \\\\\n",
    "    =\\;&e^{-rT}\\underbrace{E^Q\\left[S_T1_A\\right]}_{(1)}-K_1e^{-rT}\\underbrace{E^Q\\left[1_A\\right]}_{(2)}\n",
    "    +(K_2-K_1)e^{-rT}\\underbrace{E^Q\\left[1_B\\right]}_{(3)}\\\\\n",
    "    +&\\frac{K_2-K_1}{K_4-K_3}K_4e^{-rT}\\underbrace{E^Q\\left[1_C\\right]}_{(4)}\n",
    "    -\\frac{K_2-K_1}{K_4-K_3}e^{-rT}\\underbrace{E^Q\\left[S_T1_C\\right]}_{(5)}\\\\\n",
    "\\end{align*}\n",
    "$$\n"
   ]
  },
  {
   "cell_type": "markdown",
   "metadata": {},
   "source": [
    "$$\n",
    "\\begin{align*}\n",
    "(1)=&E^Q\\left[S_T1_A\\right]\\\\\n",
    "=&E^Q\\left[S_0e^{\\left(r-q-\\frac{\\sigma^2}{2}\\right)T+\\sigma\\Delta Z^Q(T)}1_A\\right]=S_0e^{(r-q)T}E^Q\\biggl[\\underbrace{e^{-\\frac{\\sigma^2}{2}T+\\sigma\\Delta Z^Q(T)}}_{\\Lambda}1_A\\biggr]\\\\\n",
    "=&S_0e^{(r-q)T}E^R[1_A]\\\\\n",
    "=&S_0e^{(r-q)T}P^R\\left(K_1<S_T \\le K_2\\right)\\\\\n",
    "=&S_0e^{(r-q)T}P^R\\left(\\ln{K_1}<\\ln{S_0}+\\left(r-q+\\frac{\\sigma^2}{2}\\right)T+\\sigma\\Delta Z^R(T) \\le \\ln{K_2}\\right)\\\\\n",
    "=&S_0e^{(r-q)T}P^R\\Biggl(\\frac{\\ln{\\left(\\frac{S_0}{K_2}\\right)+\\left(r-q+\\frac{\\sigma^2}{2}\\right)T}}{\\sigma\\sqrt{T}}<\\underbrace{-\\frac{\\sigma\\Delta Z^R(T)}{\\sqrt{T}}}_{ND^R(0,1)}\\le\\frac{\\ln{\\left(\\frac{S_0}{K_1}\\right)+\\left(r-q+\\frac{\\sigma^2}{2}\\right)T}}{\\sigma\\sqrt{T}}\\Biggr)\\\\\n",
    "=&S_0e^{(r-q)T}\\bigl(N(d_{11})-N(d_{12})\\bigr)\\\\\n",
    "&\\text{where}\\quad d_{11}=\\frac{\\ln{\\left(\\frac{S_0}{K_1}\\right)+\\left(r-q+\\frac{\\sigma^2}{2}\\right)T}}{\\sigma\\sqrt{T}} \\quad\\text{and}\\quad d_{12}=\\frac{\\ln{\\left(\\frac{S_0}{K_2}\\right)+\\left(r-q+\\frac{\\sigma^2}{2}\\right)T}}{\\sigma\\sqrt{T}}\\\\\n",
    "(2)=&E^Q\\left[1_A\\right]\\\\\n",
    "=&P^Q\\left(K_1<S_T \\le K_2\\right)\\\\\n",
    "=&P^Q\\left(\\ln{K_1}<\\ln{S_0}+\\left(r-q-\\frac{\\sigma^2}{2}\\right)T+\\sigma\\Delta Z^Q(T) \\le \\ln{K_2}\\right)\\\\\n",
    "=&P^Q\\Biggl(\\frac{\\ln{\\left(\\frac{S_0}{K_2}\\right)+\\left(r-q-\\frac{\\sigma^2}{2}\\right)T}}{\\sigma\\sqrt{T}}<\\underbrace{-\\frac{\\sigma\\Delta Z^Q(T)}{\\sqrt{T}}}_{ND^Q(0,1)}\\le\\frac{\\ln{\\left(\\frac{S_0}{K_1}\\right)+\\left(r-q-\\frac{\\sigma^2}{2}\\right)T}}{\\sigma\\sqrt{T}}\\Biggr)\\\\\n",
    "=&N(d_{21})-N(d_{22})\\\\\n",
    "&\\text{where}\\quad d_{21}=\\frac{\\ln{\\left(\\frac{S_0}{K_1}\\right)+\\left(r-q-\\frac{\\sigma^2}{2}\\right)T}}{\\sigma\\sqrt{T}} \\quad\\text{and}\\quad d_{22}=\\frac{\\ln{\\left(\\frac{S_0}{K_2}\\right)+\\left(r-q-\\frac{\\sigma^2}{2}\\right)T}}{\\sigma\\sqrt{T}}\\\\\n",
    "(3)=&E^Q\\left[1_B\\right]\\\\\n",
    "=&P^Q\\left(K_2<S_T \\le K_3\\right)\\\\\n",
    "=&P^Q\\left(\\ln{K_2}<\\ln{S_0}+\\left(r-q-\\frac{\\sigma^2}{2}\\right)T+\\sigma\\Delta Z^Q(T) \\le \\ln{K_3}\\right)\\\\\n",
    "=&P^Q\\Biggl(\\frac{\\ln{\\left(\\frac{S_0}{K_3}\\right)+\\left(r-q-\\frac{\\sigma^2}{2}\\right)T}}{\\sigma\\sqrt{T}}<\\underbrace{-\\frac{\\sigma\\Delta Z^Q(T)}{\\sqrt{T}}}_{ND^Q(0,1)}\\le\\frac{\\ln{\\left(\\frac{S_0}{K_2}\\right)+\\left(r-q-\\frac{\\sigma^2}{2}\\right)T}}{\\sigma\\sqrt{T}}\\Biggr)\\\\\n",
    "=&N(d_{22})-N(d_{23})\\\\\n",
    "&\\text{where}\\quad d_{22}=\\frac{\\ln{\\left(\\frac{S_0}{K_2}\\right)+\\left(r-q-\\frac{\\sigma^2}{2}\\right)T}}{\\sigma\\sqrt{T}}\\\\(4)=&E^Q\\left[1_C\\right]\\\\\n",
    "=&P^Q\\left(K_3<S_T \\le K_4\\right)\\\\\n",
    "=&P^Q\\left(\\ln{K_3}<\\ln{S_0}+\\left(r-q-\\frac{\\sigma^2}{2}\\right)T+\\sigma\\Delta Z^Q(T) \\le \\ln{K_4}\\right)\\\\\n",
    "=&P^Q\\Biggl(\\frac{\\ln{\\left(\\frac{S_0}{K_4}\\right)+\\left(r-q-\\frac{\\sigma^2}{2}\\right)T}}{\\sigma\\sqrt{T}}<\\underbrace{-\\frac{\\sigma\\Delta Z^Q(T)}{\\sqrt{T}}}_{ND^Q(0,1)}\\le\\frac{\\ln{\\left(\\frac{S_0}{K_3}\\right)+\\left(r-q-\\frac{\\sigma^2}{2}\\right)T}}{\\sigma\\sqrt{T}}\\Biggr)\\\\\n",
    "=&N(d_{23})-N(d_{24})\\\\\n",
    "&\\text{where}\\quad d_{23}=\\frac{\\ln{\\left(\\frac{S_0}{K_3}\\right)+\\left(r-q-\\frac{\\sigma^2}{2}\\right)T}}{\\sigma\\sqrt{T}} \\quad\\text{and}\\quad d_{24}=\\frac{\\ln{\\left(\\frac{S_0}{K_4}\\right)+\\left(r-q-\\frac{\\sigma^2}{2}\\right)T}}{\\sigma\\sqrt{T}}\\\\\n",
    "(5)=&E^Q\\left[S_T1_C\\right]\\\\\n",
    "=&E^Q\\left[S_0e^{\\left(r-q-\\frac{\\sigma^2}{2}\\right)T+\\sigma\\Delta Z^Q(T)}1_C\\right]=S_0e^{(r-q)T}E^Q\\biggl[\\underbrace{e^{-\\frac{\\sigma^2}{2}T+\\sigma\\Delta Z^Q(T)}}_{\\Lambda}1_C\\biggr]\\\\\n",
    "=&S_0e^{(r-q)T}E^R[1_C]\\\\\n",
    "=&S_0e^{(r-q)T}P^R\\left(K_3<S_T \\le K_4\\right)\\\\\n",
    "=&S_0e^{(r-q)T}P^R\\left(\\ln{K_3}<\\ln{S_0}+\\left(r-q+\\frac{\\sigma^2}{2}\\right)T+\\sigma\\Delta Z^R(T) \\le \\ln{K_4}\\right)\\\\\n",
    "=&S_0e^{(r-q)T}P^R\\Biggl(\\frac{\\ln{\\left(\\frac{S_0}{K_4}\\right)+\\left(r-q+\\frac{\\sigma^2}{2}\\right)T}}{\\sigma\\sqrt{T}}<\\underbrace{-\\frac{\\sigma\\Delta Z^R(T)}{\\sqrt{T}}}_{ND^R(0,1)}\\le\\frac{\\ln{\\left(\\frac{S_0}{K_3}\\right)+\\left(r-q+\\frac{\\sigma^2}{2}\\right)T}}{\\sigma\\sqrt{T}}\\Biggr)\\\\\n",
    "=&S_0e^{(r-q)T}\\bigl(N(d_{13})-N(d_{14})\\bigr)\\\\\n",
    "&\\text{where}\\quad d_{13}=\\frac{\\ln{\\left(\\frac{S_0}{K_3}\\right)+\\left(r-q+\\frac{\\sigma^2}{2}\\right)T}}{\\sigma\\sqrt{T}} \\quad\\text{and}\\quad d_{14}=\\frac{\\ln{\\left(\\frac{S_0}{K_4}\\right)+\\left(r-q+\\frac{\\sigma^2}{2}\\right)T}}{\\sigma\\sqrt{T}}\n",
    "\\end{align*}\n",
    "$$"
   ]
  },
  {
   "cell_type": "markdown",
   "metadata": {},
   "source": [
    "Thus,\n",
    "$$\n",
    "\\begin{align*}\n",
    "    c(S_0, 0)=\\;&e^{-rT}\\cdotp(1)-K_1e^{-rT}\\cdotp(2)+(K_2-K_1)e^{-rT}\\cdotp(3)+\\frac{K_2-K_1}{K_4-K_3}K_4e^{-rT}\\cdotp(4)-\\frac{K_2-K_1}{K_4-K_3}e^{-rT}\\cdotp(5)\\\\\n",
    "    =\\;&e^{-rT}S_0e^{(r-q)T}\\bigl(N(d_{11})-N(d_{12})\\bigr)-K_1e^{-rT}\\bigl(N(d_{21})-N(d_{22})\\bigr)\\\\\n",
    "    +&(K_2-K_1)e^{-rT}\\bigl(N(d_{22})-N(d_{23})\\bigr)\\\\\n",
    "    +&\\frac{K_2-K_1}{K_4-K_3}K_4e^{-rT}\\bigl(N(d_{23})-N(d_{24})\\bigr)-\\frac{K_2-K_1}{K_4-K_3}e^{-rT}S_0e^{(r-q)T}\\bigl(N(d_{13})-N(d_{14})\\bigr)\\\\\n",
    "    =\\;&S_0e^{-qT}\\left[\\bigl(N(d_{11})-N(d_{12})\\bigr)-\\frac{K_1-K_2}{K_3-K_4}\\bigl(N(d_{13})-N(d_{14})\\bigr)\\right]\\\\\n",
    "    +&e^{-rT}\\left[-K_1N(d_{21})+K_2N(d_{22})+\\frac{(K_1-K_2)K_3}{K_3-K_4}N(d_{23})-\\frac{(K_1-K_2)K_4}{K_3-K_4}N(d_{24})\\right]\\\\\n",
    "    &\\text{where} \\quad d_{1i}=\\frac{\\ln{\\left(\\frac{S_0}{K_i}\\right)+\\left(r-q+\\frac{\\sigma^2}{2}\\right)T}}{\\sigma\\sqrt{T}}\\quad\\text{and}\\quad d_{2i}=\\frac{\\ln{\\left(\\frac{S_0}{K_i}\\right)+\\left(r-q-\\frac{\\sigma^2}{2}\\right)T}}{\\sigma\\sqrt{T}},\\quad i=1,\\cdots,4\\\\\n",
    "\\end{align*}\n",
    "$$"
   ]
  },
  {
   "cell_type": "markdown",
   "metadata": {},
   "source": [
    "(ii) Based on the formula you derive, implement a program to price this option.\n",
    "\n",
    ">Inputs: $S_0$, $r$, $q$, $\\sigma$, $T$, $K_1$, $K_2$, $K_3$, $K_4$.\n",
    "\n",
    ">Output: Option value."
   ]
  },
  {
   "cell_type": "code",
   "execution_count": 1,
   "metadata": {},
   "outputs": [],
   "source": [
    "import numpy as np"
   ]
  },
  {
   "cell_type": "code",
   "execution_count": 8,
   "metadata": {},
   "outputs": [
    {
     "name": "stdout",
     "output_type": "stream",
     "text": [
      "Please input S_0: 100\n",
      "Please input r: 0.05\n",
      "Please input q: 0.02\n",
      "Please input sigma: 0.5\n",
      "Please input T: 0.4\n",
      "Please input K_1: 90\n",
      "Please input K_2: 98\n",
      "Please input K_3: 102\n",
      "Please input K_4: 104\n"
     ]
    }
   ],
   "source": [
    "### input\n",
    "S_0=float(input('Please input S_0: '))\n",
    "r=float(input('Please input r: '))\n",
    "q=float(input('Please input q: '))\n",
    "sigma=float(input('Please input sigma: '))\n",
    "T=float(input('Please input T: '))\n",
    "K_1=float(input('Please input K_1: '))\n",
    "K_2=float(input('Please input K_2: '))\n",
    "K_3=float(input('Please input K_3: '))\n",
    "K_4=float(input('Please input K_4: '))"
   ]
  },
  {
   "cell_type": "code",
   "execution_count": 9,
   "metadata": {},
   "outputs": [
    {
     "name": "stdout",
     "output_type": "stream",
     "text": [
      "0.9012547201576976\n"
     ]
    }
   ],
   "source": [
    "### output\n",
    "from scipy.stats import norm\n",
    "\n",
    "def option_price(S_0, r, q, sigma, T, K_1, K_2, K_3, K_4):\n",
    "    K=np.zeros(4)\n",
    "    K[0]=K_1\n",
    "    K[1]=K_2\n",
    "    K[2]=K_3\n",
    "    K[3]=K_4\n",
    "    d_1=np.zeros(4)\n",
    "    d_2=np.zeros(4)\n",
    "    N_d_1=np.zeros(4)\n",
    "    N_d_2=np.zeros(4)\n",
    "    for i in range(0, 4, 1):\n",
    "        d_1[i]=(np.log(S_0/K[i])+(r-q+sigma**2/2)*T)/(sigma*np.sqrt(T))\n",
    "        N_d_1[i]=norm.cdf(d_1[i])\n",
    "        d_2[i]=(np.log(S_0/K[i])+(r-q-sigma**2/2)*T)/(sigma*np.sqrt(T))\n",
    "        N_d_2[i]=norm.cdf(d_2[i])\n",
    "    price=S_0*np.exp(-q*T)*((N_d_1[0]-N_d_1[1])-(K[0]-K[1])*(N_d_1[2]-N_d_1[3])/(K[2]-K[3]))+np.exp(-r*T)*(-K[0]*N_d_2[0]+K[1]*N_d_2[1]+(K[0]-K[1])*K[2]*N_d_2[2]/(K[2]-K[3])-(K[0]-K[1])*K[3]*N_d_2[3]/(K[2]-K[3]))\n",
    "    return price\n",
    "\n",
    "print(option_price(S_0, r, q, sigma, T, K_1, K_2, K_3, K_4))"
   ]
  },
  {
   "cell_type": "code",
   "execution_count": null,
   "metadata": {},
   "outputs": [],
   "source": [
    "### assertion\n",
    "### as K_2, K_3 and K_4 approaches to infinity\n",
    "def BS_call_price(S_0, r, q, sigma, T, K_1):\n",
    "    d_1=(np.log(S_0/K_1)+(r-q+sigma**2/2)*T)/(sigma*np.sqrt(T))\n",
    "    N_d_1=norm.cdf(d_1)\n",
    "    d_2=(np.log(S_0/K_1)+(r-q-sigma**2/2)*T)/(sigma*np.sqrt(T))\n",
    "    N_d_2=norm.cdf(d_2)\n",
    "    price=S_0*np.exp(-q*T)*N_d_1-np.exp(-r*T)*K_1*N_d_2\n",
    "    return price\n",
    "\n",
    "print(BS_call_price(S_0, r, q, sigma, T, K_1))\n",
    "assert abs(option_price(S_0, r, q, sigma, T, K_1, K_2, K_3, K_4)-BS_call_price(S_0, r, q, sigma, T, K_1)) < 1e-7"
   ]
  },
  {
   "cell_type": "code",
   "execution_count": null,
   "metadata": {},
   "outputs": [],
   "source": [
    "'''\n",
    "def BS_put_price(S_0, r, q, sigma, T, K_1):\n",
    "    d_1=(np.log(S_0/K_1)+(r-q+sigma**2/2)*T)/(sigma*np.sqrt(T))\n",
    "    m_N_d_1=norm.cdf(-d_1)\n",
    "    d_2=(np.log(S_0/K_1)+(r-q-sigma**2/2)*T)/(sigma*np.sqrt(T))\n",
    "    m_N_d_2=norm.cdf(-d_2)\n",
    "    price=np.exp(-r*T)*K_1*m_N_d_2-S_0*np.exp(-q*T)*m_N_d_1\n",
    "    return price\n",
    "\n",
    "print(BS_put_price(S_0, r, q, sigma, T, K_1))\n",
    "'''"
   ]
  },
  {
   "cell_type": "markdown",
   "metadata": {},
   "source": [
    "## Bonus (10 points)"
   ]
  },
  {
   "cell_type": "markdown",
   "metadata": {},
   "source": [
    "Employ the Monte Carlo simulation to price this option.\n",
    "\n",
    ">Based on $\\ln{S_T} ∼ ND ^Q(\\ln{S_0} + (r − q − \\sigma^2/2)T,\\,\\sigma^2T)$, draw 10,000 random samples for $S_T$ to compute an option price. Repeat the above step 20 times to obtain the 95% confidence interval for the option value:\n",
    "$$\\biggl[\\text{mean of}\\;20\\;\\text{repetitions} − 2\\times\\bigl(\\text{s.d. of}\\;20\\; \\text{repetitions}\\bigr),\\;\\;\\text{mean of}\\;20\\;\\text{repetitions} + 2\\times\\bigl(\\text{s.d. of} \\;20\\;\\text{repetitions}\\bigr)\\biggr].$$"
   ]
  },
  {
   "cell_type": "code",
   "execution_count": 12,
   "metadata": {},
   "outputs": [
    {
     "name": "stdout",
     "output_type": "stream",
     "text": [
      "[ 0.8657845422739509 , 0.9451803831962625 ]\n"
     ]
    }
   ],
   "source": [
    "def MC_option_price(S_0, r, q, sigma, T, K_1, K_2, K_3, K_4):\n",
    "    S_T=np.exp(np.random.normal(np.log(S_0)+(r-q-sigma**2/2)*T, np.sqrt(sigma**2*T), 10000))\n",
    "    payoff=np.zeros(10000)\n",
    "    for i in range(0, 10000, 1):\n",
    "        if K_1<=S_T[i]<=K_2:\n",
    "            payoff[i]=S_T[i]-K_1\n",
    "        elif K_2<=S_T[i]<=K_3:\n",
    "            payoff[i]=K_2-K_1\n",
    "        elif K_3<=S_T[i]<=K_4:\n",
    "            payoff[i]=(K_2-K_1)*(K_4-S_T[i])/(K_4-K_3)\n",
    "    price=np.exp(-r*T)*np.mean(payoff)\n",
    "    return price\n",
    "\n",
    "sample=np.zeros(20)\n",
    "for i in range(0, 20, 1):\n",
    "    sample[i]=MC_option_price(S_0, r, q, sigma, T, K_1, K_2, K_3, K_4)\n",
    "\n",
    "print('[', np.mean(sample)-2*np.std(sample), ',', np.mean(sample)+2*np.std(sample), ']')"
   ]
  },
  {
   "cell_type": "code",
   "execution_count": 6,
   "metadata": {},
   "outputs": [
    {
     "data": {
      "text/plain": [
       "'\\ndef MC_call_price(S_0, r, q, sigma, T, K_1):\\n    S_T=np.exp(np.random.normal(np.log(S_0)+(r-q-sigma**2/2)*T, np.sqrt(sigma**2*T), 10000))\\n    payoff=np.zeros(10000)\\n    for i in range(0, 10000, 1):\\n        if K_1<=S_T[i]:\\n            payoff[i]=S_T[i]-K_1\\n    price=np.exp(-r*T)*np.mean(payoff)\\n    return price\\n'"
      ]
     },
     "execution_count": 6,
     "metadata": {},
     "output_type": "execute_result"
    }
   ],
   "source": [
    "'''\n",
    "def MC_call_price(S_0, r, q, sigma, T, K_1):\n",
    "    S_T=np.exp(np.random.normal(np.log(S_0)+(r-q-sigma**2/2)*T, np.sqrt(sigma**2*T), 10000))\n",
    "    payoff=np.zeros(10000)\n",
    "    for i in range(0, 10000, 1):\n",
    "        if K_1<=S_T[i]:\n",
    "            payoff[i]=S_T[i]-K_1\n",
    "    price=np.exp(-r*T)*np.mean(payoff)\n",
    "    return price\n",
    "'''"
   ]
  },
  {
   "cell_type": "code",
   "execution_count": null,
   "metadata": {},
   "outputs": [],
   "source": []
  }
 ],
 "metadata": {
  "kernelspec": {
   "display_name": "Python 3",
   "language": "python",
   "name": "python3"
  },
  "language_info": {
   "codemirror_mode": {
    "name": "ipython",
    "version": 3
   },
   "file_extension": ".py",
   "mimetype": "text/x-python",
   "name": "python",
   "nbconvert_exporter": "python",
   "pygments_lexer": "ipython3",
   "version": "3.7.3"
  }
 },
 "nbformat": 4,
 "nbformat_minor": 2
}
